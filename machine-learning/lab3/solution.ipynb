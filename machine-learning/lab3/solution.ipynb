{
 "cells": [
  {
   "attachments": {},
   "cell_type": "markdown",
   "metadata": {},
   "source": [
    "### Markov chain demo"
   ]
  },
  {
   "cell_type": "code",
   "execution_count": 2,
   "metadata": {},
   "outputs": [],
   "source": [
    "from lib.text_preprocessor import load\n",
    "from lib.markov_chain import MarkovChain"
   ]
  },
  {
   "cell_type": "code",
   "execution_count": 3,
   "metadata": {},
   "outputs": [],
   "source": [
    "corpus = load(\"./data/War and Peace.txt\", no_commas=True, fullstop=True)"
   ]
  },
  {
   "cell_type": "code",
   "execution_count": 4,
   "metadata": {},
   "outputs": [],
   "source": [
    "m = MarkovChain(seed=1337, seqlen=3)\n",
    "m.train(corpus)"
   ]
  },
  {
   "cell_type": "code",
   "execution_count": 5,
   "metadata": {},
   "outputs": [
    {
     "data": {
      "text/plain": [
       "[(0, 'bolkonski dolgorukov.'),\n",
       " (1, 'bolkonski would i would werious.'),\n",
       " (2, 'bolkonski lettere ands anna in anna of the from them on'),\n",
       " (3, 'bolkonski loftentered attle bridge and the relows kill'),\n",
       " (4, 'bolkonski new feelie.'),\n",
       " (5, 'bolkonski had merre taly.'),\n",
       " (6, \"bolkonski and duke's the was arests.\"),\n",
       " (7, \"bolkonski wait him thes son't know it the capt.\"),\n",
       " (8, 'bolkonski wouldese you dierre tout a still podox a ming one'),\n",
       " (9, 'bolkonski inters rely and insted but it what paraced'),\n",
       " (10, 'bolkonski looks on towarmy.'),\n",
       " (11, 'bolkonski down withous fron wher ancil counds horse pierred'),\n",
       " (12, 'bolkonski with a lattalk pring on his soung with the stoon'),\n",
       " (13, \"bolkonski don't ind mapproast you with coment the was\"),\n",
       " (14, 'bolkonski can is today.'),\n",
       " (15, 'bolkonski was at their face circumsy glas you in this'),\n",
       " (16, 'bolkonski mure of heir reved he emperfect borishman seemed'),\n",
       " (17, 'bolkonski amusked fwief for a swards was a rushing to it'),\n",
       " (18, \"bolkonski new have aging affere defecterre's seememble to\"),\n",
       " (19, 'bolkonski an yount occupil.')]"
      ]
     },
     "execution_count": 5,
     "metadata": {},
     "output_type": "execute_result"
    }
   ],
   "source": [
    "prefix = \"bolkonski \"\n",
    "evals = [(i, m.inference(prefix=prefix)[0].strip()) for i in range(20)]\n",
    "evals"
   ]
  },
  {
   "attachments": {},
   "cell_type": "markdown",
   "metadata": {},
   "source": [
    "### Preparations for deep learning"
   ]
  },
  {
   "cell_type": "code",
   "execution_count": 6,
   "metadata": {},
   "outputs": [],
   "source": [
    "from lib.text_preprocessor import alphabet_map\n",
    "import lib.lstm as model\n",
    "from torch import tensor, from_numpy\n",
    "import numpy as np\n",
    "import torch"
   ]
  },
  {
   "cell_type": "code",
   "execution_count": 7,
   "metadata": {},
   "outputs": [],
   "source": [
    "corpus = load(\"./data/Shakespeare.txt\", no_commas=True, fullstop=False)\n",
    "char2index, index2char = alphabet_map(corpus)\n",
    "text = \" \".join(corpus)\n",
    "\n",
    "VOCAB_LEN = len(char2index)\n",
    "SEQ_LEN = 50\n",
    "WINDOW_STEP = 2 # probably, 1 leads to overfitting and context sticking (words repeating)\n",
    "\n",
    "inputs = []\n",
    "targets = []\n",
    "\n",
    "rng = np.random.default_rng(1337)\n",
    "\n",
    "for i in range(0, len(text) - SEQ_LEN, WINDOW_STEP):\n",
    "    inputs.append(text[i: i + SEQ_LEN])\n",
    "    targets.append(text[i + SEQ_LEN])"
   ]
  },
  {
   "cell_type": "code",
   "execution_count": 8,
   "metadata": {},
   "outputs": [
    {
     "name": "stdout",
     "output_type": "stream",
     "text": [
      "char: ' ', perc: 19.5622%\n",
      "char: '$', perc: 0.0001%\n",
      "char: '&', perc: 0.0002%\n",
      "char: ''', perc: 0.4642%\n",
      "char: 'a', perc: 5.9694%\n",
      "char: 'b', perc: 1.3149%\n",
      "char: 'c', perc: 1.6798%\n",
      "char: 'd', perc: 3.1943%\n",
      "char: 'e', perc: 9.5425%\n",
      "char: 'f', perc: 1.7063%\n",
      "char: 'g', perc: 1.4374%\n",
      "char: 'h', perc: 5.3400%\n",
      "char: 'i', perc: 5.1818%\n",
      "char: 'j', perc: 0.0807%\n",
      "char: 'k', perc: 0.7450%\n",
      "char: 'l', perc: 3.4429%\n",
      "char: 'm', perc: 2.3734%\n",
      "char: 'n', perc: 4.9545%\n",
      "char: 'o', perc: 6.7320%\n",
      "char: 'p', perc: 1.1598%\n",
      "char: 'q', perc: 0.0633%\n",
      "char: 'r', perc: 4.9262%\n",
      "char: 's', perc: 5.1530%\n",
      "char: 't', perc: 7.1927%\n",
      "char: 'u', perc: 2.7057%\n",
      "char: 'v', perc: 0.7905%\n",
      "char: 'w', perc: 2.0598%\n",
      "char: 'x', perc: 0.0547%\n",
      "char: 'y', perc: 2.1466%\n",
      "char: 'z', perc: 0.0261%\n"
     ]
    }
   ],
   "source": [
    "for char in char2index:\n",
    "    print(\"char: '{}', perc: {:.4f}%\".format(char, text.count(char)/len(text)*100))"
   ]
  },
  {
   "cell_type": "code",
   "execution_count": 9,
   "metadata": {},
   "outputs": [],
   "source": [
    "X = []\n",
    "Y = []\n",
    "\n",
    "for i, seq in enumerate(inputs):\n",
    "    x = np.zeros((SEQ_LEN, VOCAB_LEN))\n",
    "    y = np.zeros(VOCAB_LEN)\n",
    "    # encode sequence\n",
    "    for j, char in enumerate(seq):\n",
    "        x[j, char2index[char]] = 1.0\n",
    "    # mark an answer\n",
    "    y[char2index[targets[i]]] = 1.0\n",
    "    X.append(from_numpy(x).float().requires_grad_(True))\n",
    "    Y.append(from_numpy(y).float())"
   ]
  },
  {
   "cell_type": "code",
   "execution_count": 10,
   "metadata": {},
   "outputs": [
    {
     "data": {
      "text/plain": [
       "(488723, 200000, 4000)"
      ]
     },
     "execution_count": 10,
     "metadata": {},
     "output_type": "execute_result"
    }
   ],
   "source": [
    "MAX_SAMPLES = 200000\n",
    "MAX_TEST_SAMPLES = 4000\n",
    "ALL = list(zip(X, Y))\n",
    "\n",
    "TRAIN_XY = ALL[:MAX_SAMPLES]\n",
    "TEST_XY = ALL[MAX_SAMPLES:][:MAX_TEST_SAMPLES]\n",
    "\n",
    "len(ALL), len(TRAIN_XY), len(TEST_XY)"
   ]
  },
  {
   "attachments": {},
   "cell_type": "markdown",
   "metadata": {},
   "source": [
    "### LSTM"
   ]
  },
  {
   "cell_type": "code",
   "execution_count": 11,
   "metadata": {},
   "outputs": [],
   "source": [
    "HIDDEN_SIZE = 48\n",
    "NUM_LAYERS = 2"
   ]
  },
  {
   "cell_type": "code",
   "execution_count": 12,
   "metadata": {},
   "outputs": [],
   "source": [
    "from importlib import reload\n",
    "reload(model);"
   ]
  },
  {
   "cell_type": "code",
   "execution_count": 13,
   "metadata": {},
   "outputs": [],
   "source": [
    "m = model.LSTM(num_classes=VOCAB_LEN, input_size=VOCAB_LEN, hidden_size=HIDDEN_SIZE, num_layers=NUM_LAYERS)"
   ]
  },
  {
   "cell_type": "code",
   "execution_count": 14,
   "metadata": {},
   "outputs": [],
   "source": [
    "num_epochs = 10 # 30\n",
    "learning_rate = 0.000005\n",
    "criterion = torch.nn.CrossEntropyLoss() # has softmax inside\n",
    "optimizer = torch.optim.Adam(m.parameters(), lr=learning_rate)\n",
    "\n",
    "rng = np.random.default_rng(seed=1337)\n",
    "shuffled = TRAIN_XY[:]\n",
    "losses = []"
   ]
  },
  {
   "cell_type": "code",
   "execution_count": 15,
   "metadata": {},
   "outputs": [
    {
     "data": {
      "text/plain": [
       "<All keys matched successfully>"
      ]
     },
     "execution_count": 15,
     "metadata": {},
     "output_type": "execute_result"
    }
   ],
   "source": [
    "m.load_state_dict(torch.load(\"./model_dict.dat\"))"
   ]
  },
  {
   "cell_type": "code",
   "execution_count": 1,
   "metadata": {},
   "outputs": [
    {
     "ename": "StopIteration",
     "evalue": "",
     "output_type": "error",
     "traceback": [
      "\u001b[0;31m---------------------------------------------------------------------------\u001b[0m",
      "\u001b[0;31mStopIteration\u001b[0m                             Traceback (most recent call last)",
      "Cell \u001b[0;32mIn[1], line 1\u001b[0m\n\u001b[0;32m----> 1\u001b[0m \u001b[39mraise\u001b[39;00m \u001b[39mStopIteration\u001b[39;00m()\n",
      "\u001b[0;31mStopIteration\u001b[0m: "
     ]
    }
   ],
   "source": [
    "raise StopIteration()"
   ]
  },
  {
   "cell_type": "code",
   "execution_count": 15,
   "metadata": {},
   "outputs": [
    {
     "name": "stderr",
     "output_type": "stream",
     "text": [
      "100%|██████████| 200000/200000 [32:01<00:00, 104.11it/s] \n"
     ]
    },
    {
     "name": "stdout",
     "output_type": "stream",
     "text": [
      "Test metrics: min 0.002542, avg 2.174901, max 11.627469\n"
     ]
    },
    {
     "name": "stderr",
     "output_type": "stream",
     "text": [
      "100%|██████████| 200000/200000 [55:38<00:00, 59.90it/s]    \n"
     ]
    },
    {
     "name": "stdout",
     "output_type": "stream",
     "text": [
      "Test metrics: min 0.002468, avg 2.166347, max 11.783454\n"
     ]
    },
    {
     "name": "stderr",
     "output_type": "stream",
     "text": [
      "100%|██████████| 200000/200000 [33:25<00:00, 99.74it/s] \n"
     ]
    },
    {
     "name": "stdout",
     "output_type": "stream",
     "text": [
      "Test metrics: min 0.002506, avg 2.158214, max 11.642696\n"
     ]
    },
    {
     "name": "stderr",
     "output_type": "stream",
     "text": [
      "100%|██████████| 200000/200000 [33:15<00:00, 100.24it/s]\n"
     ]
    },
    {
     "name": "stdout",
     "output_type": "stream",
     "text": [
      "Test metrics: min 0.002787, avg 2.149418, max 11.658943\n"
     ]
    },
    {
     "name": "stderr",
     "output_type": "stream",
     "text": [
      "100%|██████████| 200000/200000 [32:27<00:00, 102.70it/s]\n"
     ]
    },
    {
     "name": "stdout",
     "output_type": "stream",
     "text": [
      "Test metrics: min 0.002956, avg 2.142011, max 11.566449\n"
     ]
    },
    {
     "name": "stderr",
     "output_type": "stream",
     "text": [
      "100%|██████████| 200000/200000 [32:51<00:00, 101.44it/s]\n"
     ]
    },
    {
     "name": "stdout",
     "output_type": "stream",
     "text": [
      "Test metrics: min 0.003081, avg 2.135984, max 11.430526\n"
     ]
    },
    {
     "name": "stderr",
     "output_type": "stream",
     "text": [
      "100%|██████████| 200000/200000 [32:10<00:00, 103.61it/s]\n"
     ]
    },
    {
     "name": "stdout",
     "output_type": "stream",
     "text": [
      "Test metrics: min 0.003111, avg 2.128954, max 11.305707\n"
     ]
    },
    {
     "name": "stderr",
     "output_type": "stream",
     "text": [
      "100%|██████████| 200000/200000 [32:46<00:00, 101.68it/s]\n"
     ]
    },
    {
     "name": "stdout",
     "output_type": "stream",
     "text": [
      "Test metrics: min 0.002815, avg 2.120430, max 11.604982\n"
     ]
    },
    {
     "name": "stderr",
     "output_type": "stream",
     "text": [
      "100%|██████████| 200000/200000 [32:55<00:00, 101.25it/s]\n"
     ]
    },
    {
     "name": "stdout",
     "output_type": "stream",
     "text": [
      "Test metrics: min 0.003058, avg 2.115273, max 11.607272\n"
     ]
    },
    {
     "name": "stderr",
     "output_type": "stream",
     "text": [
      "100%|██████████| 200000/200000 [33:02<00:00, 100.89it/s]\n"
     ]
    },
    {
     "name": "stdout",
     "output_type": "stream",
     "text": [
      "Test metrics: min 0.003059, avg 2.108719, max 11.277762\n"
     ]
    }
   ],
   "source": [
    "import tqdm\n",
    "\n",
    "for epoch in range(num_epochs):\n",
    "    rng.shuffle(shuffled)\n",
    "    \n",
    "    m.train()\n",
    "    for input_, target_ in tqdm.tqdm(shuffled):\n",
    "        optimizer.zero_grad()\n",
    "        \n",
    "        output = m.forward(input_)\n",
    "        loss = criterion(output, target_)\n",
    "        losses.append(loss.item())\n",
    "        \n",
    "        loss.backward()\n",
    "        optimizer.step()\n",
    "    \n",
    "    m.eval()\n",
    "    test_losses = []\n",
    "\n",
    "    with torch.no_grad():\n",
    "        for input_, target_ in TEST_XY:\n",
    "            output = m.forward(input_)\n",
    "            loss = criterion(output, target_)\n",
    "            test_losses.append(loss.item())\n",
    "    print(\"Test metrics: min {:.6f}, avg {:.6f}, max {:.6f}\".format(\\\n",
    "        np.min(test_losses), np.average(test_losses), np.max(test_losses)))"
   ]
  },
  {
   "cell_type": "code",
   "execution_count": 16,
   "metadata": {},
   "outputs": [],
   "source": [
    "import matplotlib.pyplot as plt\n",
    "import pandas as pd\n",
    "\n",
    "def plot_loss(losses, window=MAX_SAMPLES):\n",
    "    rolling_mean = pd.Series(losses).rolling(window=window).mean()\n",
    "    plt.figure(figsize=(15, 5))\n",
    "    plt.title(\"Loss function\\n window size = {}\".format(window))\n",
    "    plt.plot(rolling_mean, \"g\", label=\"Rolling mean trend\")\n",
    "    plt.legend()\n",
    "    plt.grid(True)"
   ]
  },
  {
   "cell_type": "code",
   "execution_count": 26,
   "metadata": {},
   "outputs": [
    {
     "data": {
      "image/png": "[encoded data removed]",
      "text/plain": [
       "<Figure size 1500x500 with 1 Axes>"
      ]
     },
     "metadata": {},
     "output_type": "display_data"
    }
   ],
   "source": [
    "plot_loss(losses)"
   ]
  },
  {
   "cell_type": "code",
   "execution_count": 18,
   "metadata": {},
   "outputs": [
    {
     "data": {
      "image/png": "[encoded data removed]",
      "text/plain": [
       "<Figure size 640x480 with 1 Axes>"
      ]
     },
     "metadata": {},
     "output_type": "display_data"
    }
   ],
   "source": [
    "plt.scatter(range(len(test_losses)), test_losses, s=0.1);"
   ]
  },
  {
   "cell_type": "code",
   "execution_count": 19,
   "metadata": {},
   "outputs": [
    {
     "name": "stdout",
     "output_type": "stream",
     "text": [
      "Q50: 2.024750828742981\n",
      "Q90: 3.7243505001068113\n",
      "Q95: 4.371781039237976\n",
      "Q99: 5.462840456962583\n"
     ]
    }
   ],
   "source": [
    "Q = [50, 90, 95, 99]\n",
    "for q in Q:\n",
    "    print(\"Q{}: {}\".format(q, np.quantile(test_losses, q / 100)))"
   ]
  },
  {
   "cell_type": "code",
   "execution_count": 64,
   "metadata": {},
   "outputs": [],
   "source": [
    "def text2tensor(text):\n",
    "    return tensor([[1.0 if char2index[char] == i else 0.0 for i in range(VOCAB_LEN)] for char in text]).float()\n",
    "\n",
    "def tensor2text(tens, choice_tool=np.random.default_rng(1337).choice):\n",
    "    return \"\".join(index2char[choice_tool(VOCAB_LEN, p=torch.softmax(vec, dim=0).numpy())] for vec in tens)\n",
    "    #return \"\".join(index2char[torch.argmax(vec).item()] for vec in tens)"
   ]
  },
  {
   "cell_type": "code",
   "execution_count": 65,
   "metadata": {},
   "outputs": [
    {
     "data": {
      "text/plain": [
       "(\"wbxyw'cfkw dtj&ig w uk usr&ozuc&zrzt&'doqsihw&ceti\",\n",
       " 'hem not arms must help alack you are transported b')"
      ]
     },
     "execution_count": 65,
     "metadata": {},
     "output_type": "execute_result"
    }
   ],
   "source": [
    "tensor2text(text2tensor(inputs[1337])), inputs[1337]"
   ]
  },
  {
   "cell_type": "code",
   "execution_count": 66,
   "metadata": {},
   "outputs": [],
   "source": [
    "def inference(m, prefix, max_length=60):\n",
    "    m.eval()\n",
    "    s = prefix\n",
    "    \n",
    "    with torch.no_grad():\n",
    "        while len(s) < max_length:\n",
    "            suffix = s[-SEQ_LEN:]\n",
    "            input_ = text2tensor(suffix)\n",
    "            out_ = m(input_)\n",
    "            char = tensor2text(out_.view(1, -1))\n",
    "            s += char\n",
    "    return s"
   ]
  },
  {
   "cell_type": "code",
   "execution_count": 67,
   "metadata": {},
   "outputs": [
    {
     "data": {
      "text/plain": [
       "[(0, 'shake to hadih verar iaf erar wion the sielk wher cofwreds s'),\n",
       " (1, 'peare nigh nir fors ow anver i ow yom inl he wheirthr of unv'),\n",
       " (2, 'au revoir ans thet your i foud o urot ho thitigeashed thou m'),\n",
       " (3, \"to be or not to fand his sam wesh ptord i gaton en'st cind a\"),\n",
       " (4, 'what the beo my hele teils the the nocifen the what as od i ')]"
      ]
     },
     "execution_count": 67,
     "metadata": {},
     "output_type": "execute_result"
    }
   ],
   "source": [
    "prefixes = [\n",
    "    \"shake \", \"peare \", \"au revoir \", \"to be or not to \", \"what the \"\n",
    "]\n",
    "evals = [(i, inference(m, word)) for i, word in enumerate(prefixes)]\n",
    "evals"
   ]
  },
  {
   "cell_type": "code",
   "execution_count": 68,
   "metadata": {},
   "outputs": [],
   "source": [
    "#torch.save(m.state_dict(), \"./model_dict.dat\")"
   ]
  },
  {
   "attachments": {},
   "cell_type": "markdown",
   "metadata": {},
   "source": [
    "### Comparison"
   ]
  },
  {
   "cell_type": "code",
   "execution_count": 69,
   "metadata": {},
   "outputs": [],
   "source": [
    "mc = MarkovChain(seed=1337, seqlen=3)\n",
    "mc.train(corpus = load(\"./data/Shakespeare.txt\", no_commas=True, fullstop=True))"
   ]
  },
  {
   "cell_type": "code",
   "execution_count": 70,
   "metadata": {},
   "outputs": [],
   "source": [
    "prefixes = [\n",
    "    \"attach\",\n",
    "    \"madness\",\n",
    "    \"beautiful\",\n",
    "    \"wedding\",\n",
    "    \"to be or not to b\",\n",
    "    \"roaring\",\n",
    "    \"want to go home\",\n",
    "    \"heaven knows\",\n",
    "    \"these ghosts that i chase\",\n",
    "    \"in space to escape this\"\n",
    "]"
   ]
  },
  {
   "cell_type": "code",
   "execution_count": 71,
   "metadata": {},
   "outputs": [
    {
     "name": "stdout",
     "output_type": "stream",
     "text": [
      "0\n",
      "markov: attacher.\n",
      "lstm: attach toas is ho wabr sise su kiness by toed and oung thes afwirs youn of ste m\n",
      "1\n",
      "markov: madnessible smildred arewelcome.\n",
      "lstm: madness mwess and teape hes ir weit ratere de veenctaok rode kaon raate gonn who\n",
      "2\n",
      "markov: beautifulnessitter.\n",
      "lstm: beautifulet i' te to dich prilemanf comins om for fart hith thare than you mirot\n",
      "3\n",
      "markov: wedding she hear conce wear before is i wore sir.\n",
      "lstm: weddingun thit breve pan on ou ip ardow of thanetrns of whe ham i reicrsect whal\n",
      "4\n",
      "markov: to be or not to best.\n",
      "lstm: to be or not to burepeint it the dyitonth dascy yot send thinh dareld hach thal \n",
      "5\n",
      "markov: roaring ther.\n",
      "lstm: roaringr fihter thil hes lamer't sot poaner fane rathout yoe cuing youl thearg o\n",
      "6\n",
      "markov: want to go home frief did gent and you doth not noble feltitush.\n",
      "lstm: want to go home ractathir thor stungt enfale hincceog revelainof had what i net \n",
      "7\n",
      "markov: heaven knows.\n",
      "lstm: heaven knows awo that ecf geam se hat to thec ourmane bouncist thin you dis'e do\n",
      "8\n",
      "markov: these ghosts that i chase woful drybear fall lies padua.\n",
      "lstm: these ghosts that i chase the brwith beisdeir nons weike he thory plaik pnoos ip\n",
      "9\n",
      "markov: in space to escape this for and wrone.\n",
      "lstm: in space to escape this ous ane oft se they fon you whake then at lome thome whe\n"
     ]
    }
   ],
   "source": [
    "for n, pref in enumerate(prefixes):\n",
    "    print(n)\n",
    "    print(\"markov:\", mc.inference(pref, max_length=80)[0])\n",
    "    print(\"lstm:\", inference(m, pref, max_length=80))\n",
    "    "
   ]
  }
 ],
 "metadata": {
  "kernelspec": {
   "display_name": "Python 3",
   "language": "python",
   "name": "python3"
  },
  "language_info": {
   "codemirror_mode": {
    "name": "ipython",
    "version": 3
   },
   "file_extension": ".py",
   "mimetype": "text/x-python",
   "name": "python",
   "nbconvert_exporter": "python",
   "pygments_lexer": "ipython3",
   "version": "3.11.2"
  },
  "orig_nbformat": 4
 },
 "nbformat": 4,
 "nbformat_minor": 2
}
