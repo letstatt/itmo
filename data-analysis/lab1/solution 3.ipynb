{
 "cells": [
  {
   "cell_type": "code",
   "execution_count": 2,
   "metadata": {},
   "outputs": [],
   "source": [
    "import numpy as np\n",
    "import matplotlib.pyplot as plt"
   ]
  },
  {
   "cell_type": "markdown",
   "metadata": {},
   "source": [
    "### Реализация Matplotlib"
   ]
  },
  {
   "cell_type": "code",
   "execution_count": 26,
   "metadata": {},
   "outputs": [
    {
     "name": "stdout",
     "output_type": "stream",
     "text": [
      "Значения колонок: [2. 3. 0. 1. 1. 2. 0. 5. 1. 0. 3.]\n",
      "Названия колонок: [ 0.          1.27272727  2.54545455  3.81818182  5.09090909  6.36363636\n",
      "  7.63636364  8.90909091 10.18181818 11.45454545 12.72727273 14.        ]\n"
     ]
    },
    {
     "data": {
      "image/png": "[encoded data removed]",
      "text/plain": [
       "<Figure size 432x288 with 1 Axes>"
      ]
     },
     "metadata": {
      "needs_background": "light"
     },
     "output_type": "display_data"
    }
   ],
   "source": [
    "from numpy.random import Generator, MT19937\n",
    "\n",
    "rnd = Generator(MT19937(3336))\n",
    "array = rnd.integers(low=0, high=15, size=18)\n",
    "\n",
    "value_counts, bins_names, _ = plt.hist(array, bins=len(set(array)))\n",
    "print('Значения колонок:', value_counts)\n",
    "print('Названия колонок:', bins_names)"
   ]
  },
  {
   "cell_type": "markdown",
   "metadata": {},
   "source": [
    "### Авторская реализация"
   ]
  },
  {
   "cell_type": "code",
   "execution_count": 64,
   "metadata": {},
   "outputs": [
    {
     "name": "stdout",
     "output_type": "stream",
     "text": [
      "Значения колонок: [2, 3, 0, 1, 1, 2, 0, 5, 1, 0, 3]\n",
      "Названия колонок: [0.0, 1.2727272727272727, 2.5454545454545454, 3.8181818181818183, 5.090909090909091, 6.363636363636363, 7.636363636363637, 8.909090909090908, 10.181818181818182, 11.454545454545455, 12.727272727272727, 14.0]\n"
     ]
    }
   ],
   "source": [
    "def fast_hist(data, bins=10):\n",
    "    assert not (data is None or len(data) == 0), \"invalid data\"\n",
    "\n",
    "    if bins is None:\n",
    "        bins = int(np.log2(len(data))) + 1\n",
    "\n",
    "    n = len(data)\n",
    "    mn = min(data)\n",
    "    mx = max(data)\n",
    "\n",
    "    assert np.isfinite(mn) and np.isfinite(mx), \"data contains non-finite values\"\n",
    "\n",
    "    h = (mx - mn) / bins\n",
    "    bounds = [mn + i * h for i in range(bins + 1)]\n",
    "    buckets = [0 for i in range(bins)]\n",
    "    \n",
    "    '''\n",
    "    бинпоиск это конечно хорошо, но так как это питон, то сортировка будет быстрее\n",
    "    for i in data:\n",
    "        l, r = 0, bins\n",
    "        while l + 1 < r:\n",
    "            m = (l + r) // 2\n",
    "            if bounds[m] <= i:\n",
    "                l = m\n",
    "            else:\n",
    "                r = m\n",
    "        buckets[l] += 1\n",
    "    '''\n",
    "    new_data = np.array(data.copy())\n",
    "    new_data.sort()\n",
    "\n",
    "    i = 0\n",
    "    for j in new_data:\n",
    "        while j >= bounds[i + 1] and i != bins - 1:\n",
    "            i += 1\n",
    "        buckets[i] += 1\n",
    "\n",
    "    return buckets, bounds\n",
    "\n",
    "value_counts2, bins_names2 = fast_hist(array, bins=len(set(array)))\n",
    "print('Значения колонок:', value_counts2)\n",
    "print('Названия колонок:', bins_names2)"
   ]
  },
  {
   "cell_type": "markdown",
   "metadata": {},
   "source": [
    "### Сравнение скорости"
   ]
  },
  {
   "cell_type": "code",
   "execution_count": 45,
   "metadata": {},
   "outputs": [],
   "source": [
    "data = rnd.uniform(low=0, high=100, size=100)"
   ]
  },
  {
   "cell_type": "code",
   "execution_count": 62,
   "metadata": {},
   "outputs": [
    {
     "name": "stdout",
     "output_type": "stream",
     "text": [
      "6.34 ms ± 168 µs per loop (mean ± std. dev. of 7 runs, 100 loops each)\n"
     ]
    },
    {
     "data": {
      "image/png": "[encoded data removed]",
      "text/plain": [
       "<Figure size 432x288 with 1 Axes>"
      ]
     },
     "metadata": {
      "needs_background": "light"
     },
     "output_type": "display_data"
    }
   ],
   "source": [
    "%timeit plt.hist(data)"
   ]
  },
  {
   "cell_type": "code",
   "execution_count": 65,
   "metadata": {},
   "outputs": [
    {
     "name": "stdout",
     "output_type": "stream",
     "text": [
      "52 µs ± 2.03 µs per loop (mean ± std. dev. of 7 runs, 10,000 loops each)\n"
     ]
    }
   ],
   "source": [
    "%timeit fast_hist(data)"
   ]
  },
  {
   "cell_type": "markdown",
   "metadata": {},
   "source": [
    "### Строим график"
   ]
  },
  {
   "cell_type": "code",
   "execution_count": 66,
   "metadata": {},
   "outputs": [
    {
     "data": {
      "image/png": "[encoded data removed]",
      "text/plain": [
       "<Figure size 432x288 with 1 Axes>"
      ]
     },
     "metadata": {
      "needs_background": "light"
     },
     "output_type": "display_data"
    },
    {
     "data": {
      "image/png": "[encoded data removed]",
      "text/plain": [
       "<Figure size 720x360 with 2 Axes>"
      ]
     },
     "metadata": {
      "needs_background": "light"
     },
     "output_type": "display_data"
    }
   ],
   "source": [
    "y1, x1, _ = plt.hist(data)\n",
    "y2, x2 = fast_hist(data)\n",
    "\n",
    "fig, axes = plt.subplots(1, 2, figsize=(10, 5))\n",
    "axes[0].bar(x1[:-1], y1, width=2)\n",
    "axes[1].bar(x2[:-1], y2, width=2)\n",
    "plt.show()"
   ]
  }
 ],
 "metadata": {
  "kernelspec": {
   "display_name": "Python 3.10.2 64-bit",
   "language": "python",
   "name": "python3"
  },
  "language_info": {
   "codemirror_mode": {
    "name": "ipython",
    "version": 3
   },
   "file_extension": ".py",
   "mimetype": "text/x-python",
   "name": "python",
   "nbconvert_exporter": "python",
   "pygments_lexer": "ipython3",
   "version": "3.10.2"
  },
  "orig_nbformat": 4,
  "vscode": {
   "interpreter": {
    "hash": "4ee925d85def2a5ad9b1b2faaac3bfc68f425f67c2cce27bba70eba531dcc34e"
   }
  }
 },
 "nbformat": 4,
 "nbformat_minor": 2
}
