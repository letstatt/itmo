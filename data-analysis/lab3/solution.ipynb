{
 "cells": [
  {
   "cell_type": "code",
   "execution_count": 12,
   "metadata": {},
   "outputs": [],
   "source": [
    "import numpy as np\n",
    "import matplotlib.pyplot as plt\n",
    "import pandas as pd"
   ]
  },
  {
   "cell_type": "markdown",
   "metadata": {},
   "source": [
    "## Знакомство с данными"
   ]
  },
  {
   "cell_type": "code",
   "execution_count": 13,
   "metadata": {},
   "outputs": [
    {
     "name": "stdout",
     "output_type": "stream",
     "text": [
      "<class 'pandas.core.frame.DataFrame'>\n",
      "RangeIndex: 73995 entries, 0 to 73994\n",
      "Data columns (total 72 columns):\n",
      " #   Column                          Non-Null Count  Dtype  \n",
      "---  ------                          --------------  -----  \n",
      " 0   user_id                         73995 non-null  uint64 \n",
      " 1   org_id                          73995 non-null  uint64 \n",
      " 2   rating                          73995 non-null  float64\n",
      " 3   ts                              73995 non-null  int64  \n",
      " 4   user_city                       73995 non-null  object \n",
      " 5   org_city                        73995 non-null  object \n",
      " 6   average_bill                    45433 non-null  float64\n",
      " 7   rating_org                      73995 non-null  float64\n",
      " 8   rubrics                         73995 non-null  object \n",
      " 9   food_delivery                   73995 non-null  int64  \n",
      " 10  breakfast                       73995 non-null  int64  \n",
      " 11  takeaway                        73995 non-null  int64  \n",
      " 12  summer_terrace                  73995 non-null  int64  \n",
      " 13  wi_fi                           73995 non-null  int64  \n",
      " 14  business_lunch                  73995 non-null  int64  \n",
      " 15  payment_by_credit_card          73995 non-null  int64  \n",
      " 16  coffee_to_go                    73995 non-null  int64  \n",
      " 17  closed_for_quarantine           73995 non-null  int64  \n",
      " 18  online_takeaway                 73995 non-null  int64  \n",
      " 19  karaoke                         73995 non-null  int64  \n",
      " 20  special_menu                    73995 non-null  int64  \n",
      " 21  sports_broadcasts               73995 non-null  int64  \n",
      " 22  food_court1                     73995 non-null  int64  \n",
      " 23  craft_beer                      73995 non-null  int64  \n",
      " 24  projector                       73995 non-null  int64  \n",
      " 25  gift_certificate                73995 non-null  int64  \n",
      " 26  wheelchair_access               73995 non-null  int64  \n",
      " 27  automatic_door                  73995 non-null  int64  \n",
      " 28  food_product_delivery           73995 non-null  int64  \n",
      " 29  car_park                        73995 non-null  int64  \n",
      " 30  parking_disabled                73995 non-null  int64  \n",
      " 31  toilet_for_disabled             73995 non-null  int64  \n",
      " 32  promotions                      73995 non-null  int64  \n",
      " 33  cafe                            73995 non-null  int64  \n",
      " 34  minimum_order                   73995 non-null  int64  \n",
      " 35  free_delivery                   73995 non-null  int64  \n",
      " 36  self_service_kiosks             73995 non-null  int64  \n",
      " 37  has_restaurant                  73995 non-null  int64  \n",
      " 38  air_conditioning                73995 non-null  int64  \n",
      " 39  pets                            73995 non-null  int64  \n",
      " 40  elevator                        73995 non-null  int64  \n",
      " 41  has_bar                         73995 non-null  int64  \n",
      " 42  internet access                 73995 non-null  int64  \n",
      " 43  privilege_tickets               73995 non-null  int64  \n",
      " 44  organic_food                    73995 non-null  int64  \n",
      " 45  vip_zone                        73995 non-null  int64  \n",
      " 46  hall_capacity                   73995 non-null  int64  \n",
      " 47  face_control                    73995 non-null  int64  \n",
      " 48  show_program                    73995 non-null  int64  \n",
      " 49  music                           73995 non-null  int64  \n",
      " 50  chillout                        73995 non-null  int64  \n",
      " 51  dancefloor                      73995 non-null  int64  \n",
      " 52  dress_code                      73995 non-null  int64  \n",
      " 53  billiards                       73995 non-null  int64  \n",
      " 54  strip                           73995 non-null  int64  \n",
      " 55  elevator_wheelchair_accessible  73995 non-null  int64  \n",
      " 56  ramp                            73995 non-null  int64  \n",
      " 57  around_the_clock_work1          73995 non-null  int64  \n",
      " 58  pickup                          73995 non-null  int64  \n",
      " 59  farm_products                   73995 non-null  int64  \n",
      " 60  delivery                        73995 non-null  int64  \n",
      " 61  coffee_shop                     73995 non-null  int64  \n",
      " 62  call_button                     73995 non-null  int64  \n",
      " 63  wheelchair_accessible           73995 non-null  int64  \n",
      " 64  table_games                     73995 non-null  int64  \n",
      " 65  vinotheque                      73995 non-null  int64  \n",
      " 66  cakes_for_different_occasions   73995 non-null  int64  \n",
      " 67  accepted_credit_cards           73995 non-null  int64  \n",
      " 68  kalyan                          73995 non-null  int64  \n",
      " 69  teahouse                        73995 non-null  int64  \n",
      " 70  bread_from_tandoor              73995 non-null  int64  \n",
      " 71  handmade_goods                  73995 non-null  int64  \n",
      "dtypes: float64(3), int64(64), object(3), uint64(2)\n",
      "memory usage: 40.6+ MB\n"
     ]
    }
   ],
   "source": [
    "data = pd.read_csv('./data/train.csv')\n",
    "data.info()"
   ]
  },
  {
   "cell_type": "markdown",
   "metadata": {},
   "source": [
    "Столбец `average_bill` наполовину полон. Удалять его не хочется, попробуем восстановить данные."
   ]
  },
  {
   "cell_type": "markdown",
   "metadata": {},
   "source": [
    "Но сначала взглянем на распределение `average_bill`."
   ]
  },
  {
   "cell_type": "code",
   "execution_count": 14,
   "metadata": {},
   "outputs": [
    {
     "data": {
      "text/plain": [
       "<AxesSubplot:>"
      ]
     },
     "execution_count": 14,
     "metadata": {},
     "output_type": "execute_result"
    },
    {
     "data": {
      "image/png": "[encoded data removed]",
      "text/plain": [
       "<Figure size 1080x360 with 1 Axes>"
      ]
     },
     "metadata": {
      "needs_background": "light"
     },
     "output_type": "display_data"
    }
   ],
   "source": [
    "d = data.drop_duplicates(subset=[\"org_id\"]).dropna(axis='index')\n",
    "d.average_bill.hist(figsize=(15,5), log=True, bins=20)"
   ]
  },
  {
   "cell_type": "code",
   "execution_count": 15,
   "metadata": {},
   "outputs": [
    {
     "data": {
      "text/plain": [
       "count     11998.000000\n",
       "mean        999.416569\n",
       "std        3777.574245\n",
       "min         500.000000\n",
       "25%         500.000000\n",
       "50%         500.000000\n",
       "75%        1000.000000\n",
       "max      246500.000000\n",
       "Name: average_bill, dtype: float64"
      ]
     },
     "execution_count": 15,
     "metadata": {},
     "output_type": "execute_result"
    }
   ],
   "source": [
    "d.average_bill.describe()"
   ]
  },
  {
   "cell_type": "markdown",
   "metadata": {},
   "source": [
    "Было бы замечательно не испортить его в будущем. Попробуем применить `kNN`."
   ]
  },
  {
   "cell_type": "code",
   "execution_count": 16,
   "metadata": {},
   "outputs": [],
   "source": [
    "from sklearn.neighbors import KNeighborsRegressor\n",
    "from sklearn.metrics import mean_absolute_error"
   ]
  },
  {
   "cell_type": "markdown",
   "metadata": {},
   "source": [
    "Но перед применением каких-либо моделей необходимо подготовить и другие столбцы. Ну а сейчас мы пройдемся по выбросам."
   ]
  },
  {
   "cell_type": "markdown",
   "metadata": {},
   "source": [
    "## Выбросы?"
   ]
  },
  {
   "cell_type": "code",
   "execution_count": 17,
   "metadata": {},
   "outputs": [
    {
     "data": {
      "text/html": [
       "<div>\n",
       "<style scoped>\n",
       "    .dataframe tbody tr th:only-of-type {\n",
       "        vertical-align: middle;\n",
       "    }\n",
       "\n",
       "    .dataframe tbody tr th {\n",
       "        vertical-align: top;\n",
       "    }\n",
       "\n",
       "    .dataframe thead th {\n",
       "        text-align: right;\n",
       "    }\n",
       "</style>\n",
       "<table border=\"1\" class=\"dataframe\">\n",
       "  <thead>\n",
       "    <tr style=\"text-align: right;\">\n",
       "      <th></th>\n",
       "      <th>user_id</th>\n",
       "      <th>org_id</th>\n",
       "      <th>rating</th>\n",
       "      <th>ts</th>\n",
       "      <th>average_bill</th>\n",
       "      <th>rating_org</th>\n",
       "      <th>food_delivery</th>\n",
       "      <th>breakfast</th>\n",
       "      <th>takeaway</th>\n",
       "      <th>summer_terrace</th>\n",
       "      <th>...</th>\n",
       "      <th>call_button</th>\n",
       "      <th>wheelchair_accessible</th>\n",
       "      <th>table_games</th>\n",
       "      <th>vinotheque</th>\n",
       "      <th>cakes_for_different_occasions</th>\n",
       "      <th>accepted_credit_cards</th>\n",
       "      <th>kalyan</th>\n",
       "      <th>teahouse</th>\n",
       "      <th>bread_from_tandoor</th>\n",
       "      <th>handmade_goods</th>\n",
       "    </tr>\n",
       "  </thead>\n",
       "  <tbody>\n",
       "    <tr>\n",
       "      <th>count</th>\n",
       "      <td>7.399500e+04</td>\n",
       "      <td>7.399500e+04</td>\n",
       "      <td>73995.000000</td>\n",
       "      <td>73995.000000</td>\n",
       "      <td>45433.000000</td>\n",
       "      <td>73995.000000</td>\n",
       "      <td>73995.000000</td>\n",
       "      <td>73995.000000</td>\n",
       "      <td>73995.000000</td>\n",
       "      <td>73995.000000</td>\n",
       "      <td>...</td>\n",
       "      <td>73995.000000</td>\n",
       "      <td>73995.000000</td>\n",
       "      <td>73995.000000</td>\n",
       "      <td>73995.000000</td>\n",
       "      <td>73995.000000</td>\n",
       "      <td>73995.000000</td>\n",
       "      <td>73995.000000</td>\n",
       "      <td>73995.000000</td>\n",
       "      <td>73995.000000</td>\n",
       "      <td>73995.000000</td>\n",
       "    </tr>\n",
       "    <tr>\n",
       "      <th>mean</th>\n",
       "      <td>9.196627e+18</td>\n",
       "      <td>9.038261e+18</td>\n",
       "      <td>4.322779</td>\n",
       "      <td>714.540766</td>\n",
       "      <td>1075.891973</td>\n",
       "      <td>4.319332</td>\n",
       "      <td>0.757119</td>\n",
       "      <td>0.576607</td>\n",
       "      <td>0.649206</td>\n",
       "      <td>0.602554</td>\n",
       "      <td>...</td>\n",
       "      <td>0.008014</td>\n",
       "      <td>0.007406</td>\n",
       "      <td>0.017677</td>\n",
       "      <td>0.002149</td>\n",
       "      <td>0.002419</td>\n",
       "      <td>0.001027</td>\n",
       "      <td>0.000932</td>\n",
       "      <td>0.001230</td>\n",
       "      <td>0.002960</td>\n",
       "      <td>0.001216</td>\n",
       "    </tr>\n",
       "    <tr>\n",
       "      <th>std</th>\n",
       "      <td>5.312861e+18</td>\n",
       "      <td>5.275833e+18</td>\n",
       "      <td>1.130370</td>\n",
       "      <td>293.492213</td>\n",
       "      <td>2733.507688</td>\n",
       "      <td>0.308584</td>\n",
       "      <td>0.428827</td>\n",
       "      <td>0.494100</td>\n",
       "      <td>0.477222</td>\n",
       "      <td>0.489373</td>\n",
       "      <td>...</td>\n",
       "      <td>0.089162</td>\n",
       "      <td>0.085739</td>\n",
       "      <td>0.131775</td>\n",
       "      <td>0.046306</td>\n",
       "      <td>0.049125</td>\n",
       "      <td>0.032032</td>\n",
       "      <td>0.030523</td>\n",
       "      <td>0.035047</td>\n",
       "      <td>0.054323</td>\n",
       "      <td>0.034854</td>\n",
       "    </tr>\n",
       "    <tr>\n",
       "      <th>min</th>\n",
       "      <td>1.445171e+14</td>\n",
       "      <td>1.626686e+15</td>\n",
       "      <td>1.000000</td>\n",
       "      <td>0.000000</td>\n",
       "      <td>500.000000</td>\n",
       "      <td>1.000000</td>\n",
       "      <td>0.000000</td>\n",
       "      <td>0.000000</td>\n",
       "      <td>0.000000</td>\n",
       "      <td>0.000000</td>\n",
       "      <td>...</td>\n",
       "      <td>0.000000</td>\n",
       "      <td>0.000000</td>\n",
       "      <td>0.000000</td>\n",
       "      <td>0.000000</td>\n",
       "      <td>0.000000</td>\n",
       "      <td>0.000000</td>\n",
       "      <td>0.000000</td>\n",
       "      <td>0.000000</td>\n",
       "      <td>0.000000</td>\n",
       "      <td>0.000000</td>\n",
       "    </tr>\n",
       "    <tr>\n",
       "      <th>25%</th>\n",
       "      <td>4.614445e+18</td>\n",
       "      <td>4.504716e+18</td>\n",
       "      <td>4.000000</td>\n",
       "      <td>505.000000</td>\n",
       "      <td>500.000000</td>\n",
       "      <td>4.180952</td>\n",
       "      <td>1.000000</td>\n",
       "      <td>0.000000</td>\n",
       "      <td>0.000000</td>\n",
       "      <td>0.000000</td>\n",
       "      <td>...</td>\n",
       "      <td>0.000000</td>\n",
       "      <td>0.000000</td>\n",
       "      <td>0.000000</td>\n",
       "      <td>0.000000</td>\n",
       "      <td>0.000000</td>\n",
       "      <td>0.000000</td>\n",
       "      <td>0.000000</td>\n",
       "      <td>0.000000</td>\n",
       "      <td>0.000000</td>\n",
       "      <td>0.000000</td>\n",
       "    </tr>\n",
       "    <tr>\n",
       "      <th>50%</th>\n",
       "      <td>9.191287e+18</td>\n",
       "      <td>9.104453e+18</td>\n",
       "      <td>5.000000</td>\n",
       "      <td>699.000000</td>\n",
       "      <td>500.000000</td>\n",
       "      <td>4.368304</td>\n",
       "      <td>1.000000</td>\n",
       "      <td>1.000000</td>\n",
       "      <td>1.000000</td>\n",
       "      <td>1.000000</td>\n",
       "      <td>...</td>\n",
       "      <td>0.000000</td>\n",
       "      <td>0.000000</td>\n",
       "      <td>0.000000</td>\n",
       "      <td>0.000000</td>\n",
       "      <td>0.000000</td>\n",
       "      <td>0.000000</td>\n",
       "      <td>0.000000</td>\n",
       "      <td>0.000000</td>\n",
       "      <td>0.000000</td>\n",
       "      <td>0.000000</td>\n",
       "    </tr>\n",
       "    <tr>\n",
       "      <th>75%</th>\n",
       "      <td>1.376070e+19</td>\n",
       "      <td>1.350392e+19</td>\n",
       "      <td>5.000000</td>\n",
       "      <td>958.000000</td>\n",
       "      <td>1000.000000</td>\n",
       "      <td>4.524001</td>\n",
       "      <td>1.000000</td>\n",
       "      <td>1.000000</td>\n",
       "      <td>1.000000</td>\n",
       "      <td>1.000000</td>\n",
       "      <td>...</td>\n",
       "      <td>0.000000</td>\n",
       "      <td>0.000000</td>\n",
       "      <td>0.000000</td>\n",
       "      <td>0.000000</td>\n",
       "      <td>0.000000</td>\n",
       "      <td>0.000000</td>\n",
       "      <td>0.000000</td>\n",
       "      <td>0.000000</td>\n",
       "      <td>0.000000</td>\n",
       "      <td>0.000000</td>\n",
       "    </tr>\n",
       "    <tr>\n",
       "      <th>max</th>\n",
       "      <td>1.844666e+19</td>\n",
       "      <td>1.844531e+19</td>\n",
       "      <td>5.000000</td>\n",
       "      <td>1216.000000</td>\n",
       "      <td>246500.000000</td>\n",
       "      <td>5.000000</td>\n",
       "      <td>1.000000</td>\n",
       "      <td>1.000000</td>\n",
       "      <td>1.000000</td>\n",
       "      <td>1.000000</td>\n",
       "      <td>...</td>\n",
       "      <td>1.000000</td>\n",
       "      <td>1.000000</td>\n",
       "      <td>1.000000</td>\n",
       "      <td>1.000000</td>\n",
       "      <td>1.000000</td>\n",
       "      <td>1.000000</td>\n",
       "      <td>1.000000</td>\n",
       "      <td>1.000000</td>\n",
       "      <td>1.000000</td>\n",
       "      <td>1.000000</td>\n",
       "    </tr>\n",
       "  </tbody>\n",
       "</table>\n",
       "<p>8 rows × 69 columns</p>\n",
       "</div>"
      ],
      "text/plain": [
       "            user_id        org_id        rating            ts   average_bill  \\\n",
       "count  7.399500e+04  7.399500e+04  73995.000000  73995.000000   45433.000000   \n",
       "mean   9.196627e+18  9.038261e+18      4.322779    714.540766    1075.891973   \n",
       "std    5.312861e+18  5.275833e+18      1.130370    293.492213    2733.507688   \n",
       "min    1.445171e+14  1.626686e+15      1.000000      0.000000     500.000000   \n",
       "25%    4.614445e+18  4.504716e+18      4.000000    505.000000     500.000000   \n",
       "50%    9.191287e+18  9.104453e+18      5.000000    699.000000     500.000000   \n",
       "75%    1.376070e+19  1.350392e+19      5.000000    958.000000    1000.000000   \n",
       "max    1.844666e+19  1.844531e+19      5.000000   1216.000000  246500.000000   \n",
       "\n",
       "         rating_org  food_delivery     breakfast      takeaway  \\\n",
       "count  73995.000000   73995.000000  73995.000000  73995.000000   \n",
       "mean       4.319332       0.757119      0.576607      0.649206   \n",
       "std        0.308584       0.428827      0.494100      0.477222   \n",
       "min        1.000000       0.000000      0.000000      0.000000   \n",
       "25%        4.180952       1.000000      0.000000      0.000000   \n",
       "50%        4.368304       1.000000      1.000000      1.000000   \n",
       "75%        4.524001       1.000000      1.000000      1.000000   \n",
       "max        5.000000       1.000000      1.000000      1.000000   \n",
       "\n",
       "       summer_terrace  ...   call_button  wheelchair_accessible   table_games  \\\n",
       "count    73995.000000  ...  73995.000000           73995.000000  73995.000000   \n",
       "mean         0.602554  ...      0.008014               0.007406      0.017677   \n",
       "std          0.489373  ...      0.089162               0.085739      0.131775   \n",
       "min          0.000000  ...      0.000000               0.000000      0.000000   \n",
       "25%          0.000000  ...      0.000000               0.000000      0.000000   \n",
       "50%          1.000000  ...      0.000000               0.000000      0.000000   \n",
       "75%          1.000000  ...      0.000000               0.000000      0.000000   \n",
       "max          1.000000  ...      1.000000               1.000000      1.000000   \n",
       "\n",
       "         vinotheque  cakes_for_different_occasions  accepted_credit_cards  \\\n",
       "count  73995.000000                   73995.000000           73995.000000   \n",
       "mean       0.002149                       0.002419               0.001027   \n",
       "std        0.046306                       0.049125               0.032032   \n",
       "min        0.000000                       0.000000               0.000000   \n",
       "25%        0.000000                       0.000000               0.000000   \n",
       "50%        0.000000                       0.000000               0.000000   \n",
       "75%        0.000000                       0.000000               0.000000   \n",
       "max        1.000000                       1.000000               1.000000   \n",
       "\n",
       "             kalyan      teahouse  bread_from_tandoor  handmade_goods  \n",
       "count  73995.000000  73995.000000        73995.000000    73995.000000  \n",
       "mean       0.000932      0.001230            0.002960        0.001216  \n",
       "std        0.030523      0.035047            0.054323        0.034854  \n",
       "min        0.000000      0.000000            0.000000        0.000000  \n",
       "25%        0.000000      0.000000            0.000000        0.000000  \n",
       "50%        0.000000      0.000000            0.000000        0.000000  \n",
       "75%        0.000000      0.000000            0.000000        0.000000  \n",
       "max        1.000000      1.000000            1.000000        1.000000  \n",
       "\n",
       "[8 rows x 69 columns]"
      ]
     },
     "execution_count": 17,
     "metadata": {},
     "output_type": "execute_result"
    }
   ],
   "source": [
    "data.describe()"
   ]
  },
  {
   "cell_type": "code",
   "execution_count": 18,
   "metadata": {},
   "outputs": [
    {
     "data": {
      "text/html": [
       "<div>\n",
       "<style scoped>\n",
       "    .dataframe tbody tr th:only-of-type {\n",
       "        vertical-align: middle;\n",
       "    }\n",
       "\n",
       "    .dataframe tbody tr th {\n",
       "        vertical-align: top;\n",
       "    }\n",
       "\n",
       "    .dataframe thead th {\n",
       "        text-align: right;\n",
       "    }\n",
       "</style>\n",
       "<table border=\"1\" class=\"dataframe\">\n",
       "  <thead>\n",
       "    <tr style=\"text-align: right;\">\n",
       "      <th></th>\n",
       "      <th>user_id</th>\n",
       "      <th>org_id</th>\n",
       "      <th>rating</th>\n",
       "      <th>ts</th>\n",
       "      <th>average_bill</th>\n",
       "      <th>rating_org</th>\n",
       "      <th>food_delivery</th>\n",
       "      <th>breakfast</th>\n",
       "      <th>takeaway</th>\n",
       "      <th>summer_terrace</th>\n",
       "      <th>...</th>\n",
       "      <th>call_button</th>\n",
       "      <th>wheelchair_accessible</th>\n",
       "      <th>table_games</th>\n",
       "      <th>vinotheque</th>\n",
       "      <th>cakes_for_different_occasions</th>\n",
       "      <th>accepted_credit_cards</th>\n",
       "      <th>kalyan</th>\n",
       "      <th>teahouse</th>\n",
       "      <th>bread_from_tandoor</th>\n",
       "      <th>handmade_goods</th>\n",
       "    </tr>\n",
       "  </thead>\n",
       "  <tbody>\n",
       "    <tr>\n",
       "      <th>count</th>\n",
       "      <td>6.722000e+04</td>\n",
       "      <td>6.722000e+04</td>\n",
       "      <td>67220.000000</td>\n",
       "      <td>67220.000000</td>\n",
       "      <td>41055.000000</td>\n",
       "      <td>67220.000000</td>\n",
       "      <td>67220.000000</td>\n",
       "      <td>67220.000000</td>\n",
       "      <td>67220.000000</td>\n",
       "      <td>67220.000000</td>\n",
       "      <td>...</td>\n",
       "      <td>67220.000000</td>\n",
       "      <td>67220.000000</td>\n",
       "      <td>67220.000000</td>\n",
       "      <td>67220.000000</td>\n",
       "      <td>67220.00000</td>\n",
       "      <td>67220.000000</td>\n",
       "      <td>67220.000000</td>\n",
       "      <td>67220.000000</td>\n",
       "      <td>67220.000000</td>\n",
       "      <td>67220.000000</td>\n",
       "    </tr>\n",
       "    <tr>\n",
       "      <th>mean</th>\n",
       "      <td>9.212369e+18</td>\n",
       "      <td>9.033420e+18</td>\n",
       "      <td>4.615814</td>\n",
       "      <td>711.467063</td>\n",
       "      <td>987.979540</td>\n",
       "      <td>4.340381</td>\n",
       "      <td>0.754359</td>\n",
       "      <td>0.576882</td>\n",
       "      <td>0.650952</td>\n",
       "      <td>0.602142</td>\n",
       "      <td>...</td>\n",
       "      <td>0.008108</td>\n",
       "      <td>0.007468</td>\n",
       "      <td>0.017658</td>\n",
       "      <td>0.002187</td>\n",
       "      <td>0.00238</td>\n",
       "      <td>0.000967</td>\n",
       "      <td>0.000967</td>\n",
       "      <td>0.001279</td>\n",
       "      <td>0.003109</td>\n",
       "      <td>0.001309</td>\n",
       "    </tr>\n",
       "    <tr>\n",
       "      <th>std</th>\n",
       "      <td>5.315456e+18</td>\n",
       "      <td>5.275956e+18</td>\n",
       "      <td>0.650496</td>\n",
       "      <td>292.783964</td>\n",
       "      <td>747.290422</td>\n",
       "      <td>0.280751</td>\n",
       "      <td>0.430470</td>\n",
       "      <td>0.494057</td>\n",
       "      <td>0.476673</td>\n",
       "      <td>0.489459</td>\n",
       "      <td>...</td>\n",
       "      <td>0.089678</td>\n",
       "      <td>0.086095</td>\n",
       "      <td>0.131708</td>\n",
       "      <td>0.046713</td>\n",
       "      <td>0.04873</td>\n",
       "      <td>0.031081</td>\n",
       "      <td>0.031081</td>\n",
       "      <td>0.035746</td>\n",
       "      <td>0.055674</td>\n",
       "      <td>0.036159</td>\n",
       "    </tr>\n",
       "    <tr>\n",
       "      <th>min</th>\n",
       "      <td>1.445171e+14</td>\n",
       "      <td>1.626686e+15</td>\n",
       "      <td>3.000000</td>\n",
       "      <td>0.000000</td>\n",
       "      <td>500.000000</td>\n",
       "      <td>1.103004</td>\n",
       "      <td>0.000000</td>\n",
       "      <td>0.000000</td>\n",
       "      <td>0.000000</td>\n",
       "      <td>0.000000</td>\n",
       "      <td>...</td>\n",
       "      <td>0.000000</td>\n",
       "      <td>0.000000</td>\n",
       "      <td>0.000000</td>\n",
       "      <td>0.000000</td>\n",
       "      <td>0.00000</td>\n",
       "      <td>0.000000</td>\n",
       "      <td>0.000000</td>\n",
       "      <td>0.000000</td>\n",
       "      <td>0.000000</td>\n",
       "      <td>0.000000</td>\n",
       "    </tr>\n",
       "    <tr>\n",
       "      <th>25%</th>\n",
       "      <td>4.630093e+18</td>\n",
       "      <td>4.506654e+18</td>\n",
       "      <td>4.000000</td>\n",
       "      <td>502.000000</td>\n",
       "      <td>500.000000</td>\n",
       "      <td>4.202597</td>\n",
       "      <td>1.000000</td>\n",
       "      <td>0.000000</td>\n",
       "      <td>0.000000</td>\n",
       "      <td>0.000000</td>\n",
       "      <td>...</td>\n",
       "      <td>0.000000</td>\n",
       "      <td>0.000000</td>\n",
       "      <td>0.000000</td>\n",
       "      <td>0.000000</td>\n",
       "      <td>0.00000</td>\n",
       "      <td>0.000000</td>\n",
       "      <td>0.000000</td>\n",
       "      <td>0.000000</td>\n",
       "      <td>0.000000</td>\n",
       "      <td>0.000000</td>\n",
       "    </tr>\n",
       "    <tr>\n",
       "      <th>50%</th>\n",
       "      <td>9.220301e+18</td>\n",
       "      <td>9.104453e+18</td>\n",
       "      <td>5.000000</td>\n",
       "      <td>696.000000</td>\n",
       "      <td>1000.000000</td>\n",
       "      <td>4.383333</td>\n",
       "      <td>1.000000</td>\n",
       "      <td>1.000000</td>\n",
       "      <td>1.000000</td>\n",
       "      <td>1.000000</td>\n",
       "      <td>...</td>\n",
       "      <td>0.000000</td>\n",
       "      <td>0.000000</td>\n",
       "      <td>0.000000</td>\n",
       "      <td>0.000000</td>\n",
       "      <td>0.00000</td>\n",
       "      <td>0.000000</td>\n",
       "      <td>0.000000</td>\n",
       "      <td>0.000000</td>\n",
       "      <td>0.000000</td>\n",
       "      <td>0.000000</td>\n",
       "    </tr>\n",
       "    <tr>\n",
       "      <th>75%</th>\n",
       "      <td>1.378835e+19</td>\n",
       "      <td>1.348106e+19</td>\n",
       "      <td>5.000000</td>\n",
       "      <td>953.000000</td>\n",
       "      <td>1000.000000</td>\n",
       "      <td>4.529439</td>\n",
       "      <td>1.000000</td>\n",
       "      <td>1.000000</td>\n",
       "      <td>1.000000</td>\n",
       "      <td>1.000000</td>\n",
       "      <td>...</td>\n",
       "      <td>0.000000</td>\n",
       "      <td>0.000000</td>\n",
       "      <td>0.000000</td>\n",
       "      <td>0.000000</td>\n",
       "      <td>0.00000</td>\n",
       "      <td>0.000000</td>\n",
       "      <td>0.000000</td>\n",
       "      <td>0.000000</td>\n",
       "      <td>0.000000</td>\n",
       "      <td>0.000000</td>\n",
       "    </tr>\n",
       "    <tr>\n",
       "      <th>max</th>\n",
       "      <td>1.844666e+19</td>\n",
       "      <td>1.844474e+19</td>\n",
       "      <td>5.000000</td>\n",
       "      <td>1216.000000</td>\n",
       "      <td>9000.000000</td>\n",
       "      <td>5.000000</td>\n",
       "      <td>1.000000</td>\n",
       "      <td>1.000000</td>\n",
       "      <td>1.000000</td>\n",
       "      <td>1.000000</td>\n",
       "      <td>...</td>\n",
       "      <td>1.000000</td>\n",
       "      <td>1.000000</td>\n",
       "      <td>1.000000</td>\n",
       "      <td>1.000000</td>\n",
       "      <td>1.00000</td>\n",
       "      <td>1.000000</td>\n",
       "      <td>1.000000</td>\n",
       "      <td>1.000000</td>\n",
       "      <td>1.000000</td>\n",
       "      <td>1.000000</td>\n",
       "    </tr>\n",
       "  </tbody>\n",
       "</table>\n",
       "<p>8 rows × 69 columns</p>\n",
       "</div>"
      ],
      "text/plain": [
       "            user_id        org_id        rating            ts  average_bill  \\\n",
       "count  6.722000e+04  6.722000e+04  67220.000000  67220.000000  41055.000000   \n",
       "mean   9.212369e+18  9.033420e+18      4.615814    711.467063    987.979540   \n",
       "std    5.315456e+18  5.275956e+18      0.650496    292.783964    747.290422   \n",
       "min    1.445171e+14  1.626686e+15      3.000000      0.000000    500.000000   \n",
       "25%    4.630093e+18  4.506654e+18      4.000000    502.000000    500.000000   \n",
       "50%    9.220301e+18  9.104453e+18      5.000000    696.000000   1000.000000   \n",
       "75%    1.378835e+19  1.348106e+19      5.000000    953.000000   1000.000000   \n",
       "max    1.844666e+19  1.844474e+19      5.000000   1216.000000   9000.000000   \n",
       "\n",
       "         rating_org  food_delivery     breakfast      takeaway  \\\n",
       "count  67220.000000   67220.000000  67220.000000  67220.000000   \n",
       "mean       4.340381       0.754359      0.576882      0.650952   \n",
       "std        0.280751       0.430470      0.494057      0.476673   \n",
       "min        1.103004       0.000000      0.000000      0.000000   \n",
       "25%        4.202597       1.000000      0.000000      0.000000   \n",
       "50%        4.383333       1.000000      1.000000      1.000000   \n",
       "75%        4.529439       1.000000      1.000000      1.000000   \n",
       "max        5.000000       1.000000      1.000000      1.000000   \n",
       "\n",
       "       summer_terrace  ...   call_button  wheelchair_accessible   table_games  \\\n",
       "count    67220.000000  ...  67220.000000           67220.000000  67220.000000   \n",
       "mean         0.602142  ...      0.008108               0.007468      0.017658   \n",
       "std          0.489459  ...      0.089678               0.086095      0.131708   \n",
       "min          0.000000  ...      0.000000               0.000000      0.000000   \n",
       "25%          0.000000  ...      0.000000               0.000000      0.000000   \n",
       "50%          1.000000  ...      0.000000               0.000000      0.000000   \n",
       "75%          1.000000  ...      0.000000               0.000000      0.000000   \n",
       "max          1.000000  ...      1.000000               1.000000      1.000000   \n",
       "\n",
       "         vinotheque  cakes_for_different_occasions  accepted_credit_cards  \\\n",
       "count  67220.000000                    67220.00000           67220.000000   \n",
       "mean       0.002187                        0.00238               0.000967   \n",
       "std        0.046713                        0.04873               0.031081   \n",
       "min        0.000000                        0.00000               0.000000   \n",
       "25%        0.000000                        0.00000               0.000000   \n",
       "50%        0.000000                        0.00000               0.000000   \n",
       "75%        0.000000                        0.00000               0.000000   \n",
       "max        1.000000                        1.00000               1.000000   \n",
       "\n",
       "             kalyan      teahouse  bread_from_tandoor  handmade_goods  \n",
       "count  67220.000000  67220.000000        67220.000000    67220.000000  \n",
       "mean       0.000967      0.001279            0.003109        0.001309  \n",
       "std        0.031081      0.035746            0.055674        0.036159  \n",
       "min        0.000000      0.000000            0.000000        0.000000  \n",
       "25%        0.000000      0.000000            0.000000        0.000000  \n",
       "50%        0.000000      0.000000            0.000000        0.000000  \n",
       "75%        0.000000      0.000000            0.000000        0.000000  \n",
       "max        1.000000      1.000000            1.000000        1.000000  \n",
       "\n",
       "[8 rows x 69 columns]"
      ]
     },
     "execution_count": 18,
     "metadata": {},
     "output_type": "execute_result"
    }
   ],
   "source": [
    "data1 = data[(data.rating > 1)] # drop low ratings\n",
    "\n",
    "std = data1.rating.std()\n",
    "mean = data1.rating.mean()\n",
    "data1 = data1[(data1.rating < mean + 3 * std) & (data1.rating > mean - 3 * std)]\n",
    "\n",
    "std = data1.average_bill.dropna().std()\n",
    "mean = data1.average_bill.dropna().mean()\n",
    "data1 = data1[((data1.average_bill < mean + 3 * std) & (data1.average_bill > mean - 3 * std)) | data1.average_bill.isna()]\n",
    "\n",
    "data1.describe()"
   ]
  },
  {
   "cell_type": "code",
   "execution_count": 19,
   "metadata": {},
   "outputs": [],
   "source": [
    "data = data1"
   ]
  },
  {
   "cell_type": "code",
   "execution_count": 20,
   "metadata": {},
   "outputs": [
    {
     "data": {
      "text/plain": [
       "<AxesSubplot:>"
      ]
     },
     "execution_count": 20,
     "metadata": {},
     "output_type": "execute_result"
    },
    {
     "data": {
      "image/png": "[encoded data removed]",
      "text/plain": [
       "<Figure size 1080x360 with 1 Axes>"
      ]
     },
     "metadata": {
      "needs_background": "light"
     },
     "output_type": "display_data"
    }
   ],
   "source": [
    "d = data.drop_duplicates(subset=[\"org_id\"]).dropna(axis='index')\n",
    "d.average_bill.hist(figsize=(15,5), log=True, bins=20)"
   ]
  },
  {
   "cell_type": "markdown",
   "metadata": {},
   "source": [
    "Что-то на экспоненциальном."
   ]
  },
  {
   "cell_type": "markdown",
   "metadata": {},
   "source": [
    "## Подготовка столбцов, нормализация"
   ]
  },
  {
   "cell_type": "markdown",
   "metadata": {},
   "source": [
    "Например, оцифруем `org_city`."
   ]
  },
  {
   "cell_type": "code",
   "execution_count": 21,
   "metadata": {},
   "outputs": [],
   "source": [
    "data[\"org_city\"] = data[\"org_city\"].map({\"msk\": 0, \"spb\": 1})"
   ]
  },
  {
   "cell_type": "markdown",
   "metadata": {},
   "source": [
    "Затем введем новый признак `foreign_ratio` - доля рейтингов, оставленных иногородними посетителями."
   ]
  },
  {
   "cell_type": "code",
   "execution_count": 22,
   "metadata": {},
   "outputs": [],
   "source": [
    "for oid in data.org_id.unique():\n",
    "    d = data[data.org_id == oid]\n",
    "    u = d.user_city.value_counts()\n",
    "    foreign_city = \"msk\" if d.org_city.values[0] == 1 else \"spb\"\n",
    "    ratio = 0\n",
    "    if foreign_city in u.index:\n",
    "        ratio = u[foreign_city] / sum(u.values)\n",
    "    data.loc[d.index[-1], [\"foreign_ratio\"]] = ratio # write to last entry"
   ]
  },
  {
   "cell_type": "markdown",
   "metadata": {},
   "source": [
    "На самом деле, можно сложить все оценки пользователей по конкретному заведению в столбец `rating_mean`, вычислив его как среднее. Таким образом нам не нужно будет более хранить столбец `rating`."
   ]
  },
  {
   "cell_type": "code",
   "execution_count": 23,
   "metadata": {},
   "outputs": [
    {
     "data": {
      "text/plain": [
       "(-0.3615717498267886, 0.5696544248252717)"
      ]
     },
     "execution_count": 23,
     "metadata": {},
     "output_type": "execute_result"
    }
   ],
   "source": [
    "D = [] # на сколько rating_mean отклоняется от rating_org?\n",
    "\n",
    "for oid in data.org_id.unique():\n",
    "    d = data[data.org_id == oid]\n",
    "    m = d.rating.mean()\n",
    "    D.append(d.rating_org.iloc[0] - m)\n",
    "    data.loc[d.index[-1], [\"rating_mean\"]] = m\n",
    "\n",
    "# нормализуем\n",
    "data[\"rating_mean\"] = (data[\"rating_mean\"] - data[\"rating_mean\"].min()) / (data[\"rating_mean\"].max() - data[\"rating_mean\"].min())\n",
    "np.mean(D), np.std(D)"
   ]
  },
  {
   "cell_type": "markdown",
   "metadata": {},
   "source": [
    "В то же время давайте хранить столбец \"количество отзывов по заведению\" - `ratings_count`"
   ]
  },
  {
   "cell_type": "code",
   "execution_count": 24,
   "metadata": {},
   "outputs": [],
   "source": [
    "for oid in data.org_id.unique():\n",
    "    d = data[data.org_id == oid]\n",
    "    data.loc[d.index, [\"ratings_count\"]] = len(d)\n",
    "\n",
    "ratings_count_divider = data[\"ratings_count\"].max() - data[\"ratings_count\"].min()\n",
    "data[\"ratings_count\"] = (data[\"ratings_count\"] - data[\"ratings_count\"].min()) / ratings_count_divider"
   ]
  },
  {
   "cell_type": "markdown",
   "metadata": {},
   "source": [
    "Теперь удалим большую часть оценок пользователей, основываясь впредь на средних значениях."
   ]
  },
  {
   "cell_type": "code",
   "execution_count": 25,
   "metadata": {},
   "outputs": [
    {
     "data": {
      "text/plain": [
       "17124"
      ]
     },
     "execution_count": 25,
     "metadata": {},
     "output_type": "execute_result"
    }
   ],
   "source": [
    "data = data.drop_duplicates(subset=[\"org_id\", \"rating_org\"], keep=\"last\").reset_index(drop=True)\n",
    "len(data)"
   ]
  },
  {
   "cell_type": "markdown",
   "metadata": {},
   "source": [
    "И нормализуем `rating_org`"
   ]
  },
  {
   "cell_type": "code",
   "execution_count": 26,
   "metadata": {},
   "outputs": [],
   "source": [
    "data[\"rating_org\"] = (data[\"rating_org\"] - data[\"rating_org\"].min()) / (data[\"rating_org\"].max() - data[\"rating_org\"].min())"
   ]
  },
  {
   "cell_type": "markdown",
   "metadata": {},
   "source": [
    "## Подготовка машинерии"
   ]
  },
  {
   "cell_type": "markdown",
   "metadata": {},
   "source": [
    "Определим столбцы, которые не будут участвовать в синтезе чего-либо."
   ]
  },
  {
   "cell_type": "code",
   "execution_count": 27,
   "metadata": {},
   "outputs": [],
   "source": [
    "ban = [\"user_id\", \"org_id\", \"rating\", \"ts\", \"user_city\", \"rubrics\"]"
   ]
  },
  {
   "cell_type": "markdown",
   "metadata": {},
   "source": [
    "Заметим, что весь датасет может быть разделен по категориальному признаку `rubrics`."
   ]
  },
  {
   "cell_type": "code",
   "execution_count": 28,
   "metadata": {},
   "outputs": [
    {
     "data": {
      "text/plain": [
       "array(['Кафе', 'Кофейня', 'Ресторан', 'Булочная, пекарня',\n",
       "       'Быстрое питание', 'Спортбар', 'Бар, паб', 'Кальян-бар',\n",
       "       'Кондитерская', 'Суши-бар', 'Пиццерия', 'Столовая',\n",
       "       'Бар безалкогольных напитков', 'Кофе с собой'], dtype=object)"
      ]
     },
     "execution_count": 28,
     "metadata": {},
     "output_type": "execute_result"
    }
   ],
   "source": [
    "rubrics = data.rubrics.unique()\n",
    "rubrics"
   ]
  },
  {
   "cell_type": "markdown",
   "metadata": {},
   "source": [
    "Будем полагать, что разделение датасета на типы заведений и обучение на каждой обособленной выборке даст более хороший результат."
   ]
  },
  {
   "cell_type": "code",
   "execution_count": 29,
   "metadata": {},
   "outputs": [],
   "source": [
    "d = {}\n",
    "for i in rubrics:\n",
    "    d[i] = data[data.rubrics == i].copy().drop(columns=ban)"
   ]
  },
  {
   "cell_type": "markdown",
   "metadata": {},
   "source": [
    "Код для обучения и тестирования."
   ]
  },
  {
   "cell_type": "code",
   "execution_count": 30,
   "metadata": {},
   "outputs": [],
   "source": [
    "def separate(train, test, column):\n",
    "    train_X = train.drop(columns=[column]).to_numpy()\n",
    "    train_Y = train[column].array\n",
    "    test_X = test.drop(columns=[column]).to_numpy()\n",
    "    test_Y = test[column].array\n",
    "\n",
    "    return train_X, train_Y, test_X, test_Y"
   ]
  },
  {
   "cell_type": "code",
   "execution_count": 31,
   "metadata": {},
   "outputs": [],
   "source": [
    "def train(train_X, train_Y, param, p=1):\n",
    "    assert len(train_X) > 5, \"sample is too small\"\n",
    "    model = KNeighborsRegressor(n_neighbors=min(len(train_X), param), weights=\"distance\", p=p)\n",
    "    model.fit(train_X, train_Y)\n",
    "    return model"
   ]
  },
  {
   "cell_type": "code",
   "execution_count": 32,
   "metadata": {},
   "outputs": [],
   "source": [
    "def test(test_X, test_Y, model):\n",
    "    prediction = model.predict(test_X)\n",
    "    error = mean_absolute_error(test_Y, prediction)\n",
    "    return error"
   ]
  },
  {
   "cell_type": "code",
   "execution_count": 33,
   "metadata": {},
   "outputs": [],
   "source": [
    "import sys\n",
    "\n",
    "def brute_params(f, debug, e):\n",
    "    best_error = 1e9\n",
    "    best_param = None\n",
    "    s = 1\n",
    "    for i in range(s, e):\n",
    "        if debug:\n",
    "            print(\"\\r                                       \\r\", end=\"\")\n",
    "            print(\"iteration {} of {}, best_p {}\".format(i-s+1, e-s, best_param), end=\"\")\n",
    "            sys.stdout.flush()\n",
    "        error = f(i)\n",
    "        if error < best_error:\n",
    "            best_error = error\n",
    "            best_param = i\n",
    "    if debug:\n",
    "        print()\n",
    "    return best_param, best_error"
   ]
  },
  {
   "cell_type": "markdown",
   "metadata": {},
   "source": [
    "Будем использовать k-fold кросс-валидацию, если у нас будет достаточно данных для обучения, иначе - обычное разбиение 80/20."
   ]
  },
  {
   "cell_type": "code",
   "execution_count": 34,
   "metadata": {},
   "outputs": [],
   "source": [
    "def kfold_train(data, column, e=5):\n",
    "    k = int(np.ceil(np.sqrt(len(data))))\n",
    "    n = int(np.ceil(len(data) / k))\n",
    "    prepared = []\n",
    "\n",
    "    for i in range(0, n):\n",
    "        if i * k + k >= len(data):\n",
    "            break\n",
    "        _test = data[i * k : len(data) if i * k + 2 * k >= len(data) else i * k + k]\n",
    "        _train = data.iloc[~data.index.map(lambda i: i in _test.index)]\n",
    "        prepared.append(separate(_train, _test, column))\n",
    "    \n",
    "    def f(k):\n",
    "        errors = []\n",
    "        for train_X, train_Y, test_X, test_Y in prepared:\n",
    "            model = train(train_X, train_Y, k)\n",
    "            error = test(test_X, test_Y, model)\n",
    "            errors.append(error)\n",
    "        #return sum(errors) / len(errors)\n",
    "        return max(errors)\n",
    "\n",
    "    param, _ = brute_params(f, True, e)\n",
    "    return param"
   ]
  },
  {
   "cell_type": "code",
   "execution_count": 35,
   "metadata": {},
   "outputs": [],
   "source": [
    "def single_pass_train(data, column, e=5):\n",
    "    _train = data.sample(int(len(data) * 0.8), random_state=1337)\n",
    "    _test = data.iloc[~data.index.map(lambda k: k in _train.index)]\n",
    "    train_X, train_Y, test_X, test_Y = separate(_train, _test, column)\n",
    "\n",
    "    def f(k):\n",
    "        model = train(train_X, train_Y, k)\n",
    "        error = test(test_X, test_Y, model)\n",
    "        return error\n",
    "\n",
    "    param, _ = brute_params(f, True, e)\n",
    "    return param"
   ]
  },
  {
   "cell_type": "code",
   "execution_count": 36,
   "metadata": {},
   "outputs": [],
   "source": [
    "def find_model(data, name, column, e=5):\n",
    "    def final_model(data, param):\n",
    "        return train(\n",
    "            data.drop(columns=[column]).to_numpy(),\n",
    "            data[column].array,\n",
    "            param\n",
    "        )\n",
    "\n",
    "    if np.sqrt(len(data)) < 10:\n",
    "        print(\"single-pass\", name, len(data))\n",
    "        return final_model(data, single_pass_train(data, column, e))\n",
    "    else:\n",
    "        print(\"kfold\", name, len(data))\n",
    "        return final_model(data, kfold_train(data, column, e))"
   ]
  },
  {
   "cell_type": "markdown",
   "metadata": {},
   "source": [
    "## Синтезируем `average_bill`"
   ]
  },
  {
   "cell_type": "code",
   "execution_count": 37,
   "metadata": {},
   "outputs": [
    {
     "name": "stdout",
     "output_type": "stream",
     "text": [
      "kfold Кафе 2882\n",
      "iteration 4 of 4, best_p 3             \n",
      "kfold Кофейня 731\n",
      "iteration 4 of 4, best_p 3             \n",
      "kfold Ресторан 3700\n",
      "iteration 4 of 4, best_p 3             \n",
      "kfold Булочная, пекарня 255\n",
      "iteration 4 of 4, best_p 3             \n",
      "kfold Быстрое питание 1090\n",
      "iteration 4 of 4, best_p 1             \n",
      "single-pass Спортбар 38\n",
      "iteration 4 of 4, best_p 1             \n",
      "kfold Бар, паб 1146\n",
      "iteration 4 of 4, best_p 3             \n",
      "kfold Кальян-бар 222\n",
      "iteration 4 of 4, best_p 2             \n",
      "kfold Кондитерская 207\n",
      "iteration 4 of 4, best_p 3             \n",
      "kfold Суши-бар 270\n",
      "iteration 4 of 4, best_p 3             \n",
      "kfold Пиццерия 386\n",
      "iteration 4 of 4, best_p 3             \n",
      "kfold Столовая 256\n",
      "iteration 4 of 4, best_p 1             \n",
      "single-pass Бар безалкогольных напитков 18\n",
      "iteration 4 of 4, best_p 1             \n",
      "single-pass Кофе с собой 24\n",
      "iteration 4 of 4, best_p 1             \n"
     ]
    }
   ],
   "source": [
    "\n",
    "ab_models = {}\n",
    "\n",
    "for name, d2 in d.items():\n",
    "    # remove `rating_org` column because test dataset doesn't have that one\n",
    "    ab_models[name] = find_model(d2.drop(columns=[\"rating_org\"]).dropna(), name, \"average_bill\")\n",
    " "
   ]
  },
  {
   "cell_type": "markdown",
   "metadata": {},
   "source": [
    "Применим модели для синтеза `average_bill`."
   ]
  },
  {
   "cell_type": "code",
   "execution_count": 38,
   "metadata": {},
   "outputs": [],
   "source": [
    "for name, m in ab_models.items():\n",
    "    d2 = d[name][\"average_bill\"]\n",
    "    index = d2.isna()\n",
    "    d3 = d[name]\n",
    "    ab_prediction = m.predict(d3.drop(columns=[\"average_bill\", \"rating_org\"])[index].to_numpy())\n",
    "    d[name].loc[index, \"average_bill\"] = ab_prediction"
   ]
  },
  {
   "cell_type": "code",
   "execution_count": 39,
   "metadata": {},
   "outputs": [],
   "source": [
    "data2 = pd.concat([d2 for _, d2 in d.items()])"
   ]
  },
  {
   "cell_type": "code",
   "execution_count": 40,
   "metadata": {},
   "outputs": [
    {
     "name": "stdout",
     "output_type": "stream",
     "text": [
      "<class 'pandas.core.frame.DataFrame'>\n",
      "Int64Index: 17124 entries, 0 to 17056\n",
      "Data columns (total 69 columns):\n",
      " #   Column                          Non-Null Count  Dtype  \n",
      "---  ------                          --------------  -----  \n",
      " 0   org_city                        17124 non-null  int64  \n",
      " 1   average_bill                    17124 non-null  float64\n",
      " 2   rating_org                      17124 non-null  float64\n",
      " 3   food_delivery                   17124 non-null  int64  \n",
      " 4   breakfast                       17124 non-null  int64  \n",
      " 5   takeaway                        17124 non-null  int64  \n",
      " 6   summer_terrace                  17124 non-null  int64  \n",
      " 7   wi_fi                           17124 non-null  int64  \n",
      " 8   business_lunch                  17124 non-null  int64  \n",
      " 9   payment_by_credit_card          17124 non-null  int64  \n",
      " 10  coffee_to_go                    17124 non-null  int64  \n",
      " 11  closed_for_quarantine           17124 non-null  int64  \n",
      " 12  online_takeaway                 17124 non-null  int64  \n",
      " 13  karaoke                         17124 non-null  int64  \n",
      " 14  special_menu                    17124 non-null  int64  \n",
      " 15  sports_broadcasts               17124 non-null  int64  \n",
      " 16  food_court1                     17124 non-null  int64  \n",
      " 17  craft_beer                      17124 non-null  int64  \n",
      " 18  projector                       17124 non-null  int64  \n",
      " 19  gift_certificate                17124 non-null  int64  \n",
      " 20  wheelchair_access               17124 non-null  int64  \n",
      " 21  automatic_door                  17124 non-null  int64  \n",
      " 22  food_product_delivery           17124 non-null  int64  \n",
      " 23  car_park                        17124 non-null  int64  \n",
      " 24  parking_disabled                17124 non-null  int64  \n",
      " 25  toilet_for_disabled             17124 non-null  int64  \n",
      " 26  promotions                      17124 non-null  int64  \n",
      " 27  cafe                            17124 non-null  int64  \n",
      " 28  minimum_order                   17124 non-null  int64  \n",
      " 29  free_delivery                   17124 non-null  int64  \n",
      " 30  self_service_kiosks             17124 non-null  int64  \n",
      " 31  has_restaurant                  17124 non-null  int64  \n",
      " 32  air_conditioning                17124 non-null  int64  \n",
      " 33  pets                            17124 non-null  int64  \n",
      " 34  elevator                        17124 non-null  int64  \n",
      " 35  has_bar                         17124 non-null  int64  \n",
      " 36  internet access                 17124 non-null  int64  \n",
      " 37  privilege_tickets               17124 non-null  int64  \n",
      " 38  organic_food                    17124 non-null  int64  \n",
      " 39  vip_zone                        17124 non-null  int64  \n",
      " 40  hall_capacity                   17124 non-null  int64  \n",
      " 41  face_control                    17124 non-null  int64  \n",
      " 42  show_program                    17124 non-null  int64  \n",
      " 43  music                           17124 non-null  int64  \n",
      " 44  chillout                        17124 non-null  int64  \n",
      " 45  dancefloor                      17124 non-null  int64  \n",
      " 46  dress_code                      17124 non-null  int64  \n",
      " 47  billiards                       17124 non-null  int64  \n",
      " 48  strip                           17124 non-null  int64  \n",
      " 49  elevator_wheelchair_accessible  17124 non-null  int64  \n",
      " 50  ramp                            17124 non-null  int64  \n",
      " 51  around_the_clock_work1          17124 non-null  int64  \n",
      " 52  pickup                          17124 non-null  int64  \n",
      " 53  farm_products                   17124 non-null  int64  \n",
      " 54  delivery                        17124 non-null  int64  \n",
      " 55  coffee_shop                     17124 non-null  int64  \n",
      " 56  call_button                     17124 non-null  int64  \n",
      " 57  wheelchair_accessible           17124 non-null  int64  \n",
      " 58  table_games                     17124 non-null  int64  \n",
      " 59  vinotheque                      17124 non-null  int64  \n",
      " 60  cakes_for_different_occasions   17124 non-null  int64  \n",
      " 61  accepted_credit_cards           17124 non-null  int64  \n",
      " 62  kalyan                          17124 non-null  int64  \n",
      " 63  teahouse                        17124 non-null  int64  \n",
      " 64  bread_from_tandoor              17124 non-null  int64  \n",
      " 65  handmade_goods                  17124 non-null  int64  \n",
      " 66  foreign_ratio                   17124 non-null  float64\n",
      " 67  rating_mean                     17124 non-null  float64\n",
      " 68  ratings_count                   17124 non-null  float64\n",
      "dtypes: float64(5), int64(64)\n",
      "memory usage: 9.1 MB\n"
     ]
    }
   ],
   "source": [
    "data2.info()"
   ]
  },
  {
   "cell_type": "code",
   "execution_count": 41,
   "metadata": {},
   "outputs": [
    {
     "data": {
      "text/plain": [
       "<AxesSubplot:>"
      ]
     },
     "execution_count": 41,
     "metadata": {},
     "output_type": "execute_result"
    },
    {
     "data": {
      "image/png": "[encoded data removed]",
      "text/plain": [
       "<Figure size 1080x360 with 1 Axes>"
      ]
     },
     "metadata": {
      "needs_background": "light"
     },
     "output_type": "display_data"
    }
   ],
   "source": [
    "d2 = data2.assign(org_id=data.org_id).drop_duplicates(subset=[\"org_id\"]).dropna(axis='index')\n",
    "d2.average_bill.hist(figsize=(15,5), log=True, bins=20)"
   ]
  },
  {
   "cell_type": "markdown",
   "metadata": {},
   "source": [
    "Было:"
   ]
  },
  {
   "cell_type": "code",
   "execution_count": 42,
   "metadata": {},
   "outputs": [
    {
     "data": {
      "text/plain": [
       "count    11225.000000\n",
       "mean       882.717149\n",
       "std        682.704775\n",
       "min        500.000000\n",
       "25%        500.000000\n",
       "50%        500.000000\n",
       "75%       1000.000000\n",
       "max       9000.000000\n",
       "Name: average_bill, dtype: float64"
      ]
     },
     "execution_count": 42,
     "metadata": {},
     "output_type": "execute_result"
    }
   ],
   "source": [
    "data.drop_duplicates(subset=[\"org_id\"]).dropna(axis='index').average_bill.describe()"
   ]
  },
  {
   "cell_type": "markdown",
   "metadata": {},
   "source": [
    "Стало:"
   ]
  },
  {
   "cell_type": "code",
   "execution_count": 43,
   "metadata": {},
   "outputs": [
    {
     "data": {
      "text/plain": [
       "count    17124.000000\n",
       "mean       846.996935\n",
       "std        620.621922\n",
       "min        500.000000\n",
       "25%        500.000000\n",
       "50%        500.000000\n",
       "75%       1000.000000\n",
       "max       9000.000000\n",
       "Name: average_bill, dtype: float64"
      ]
     },
     "execution_count": 43,
     "metadata": {},
     "output_type": "execute_result"
    }
   ],
   "source": [
    "d2.average_bill.describe()"
   ]
  },
  {
   "cell_type": "markdown",
   "metadata": {},
   "source": [
    "Мы немного сместили центр и кв. откл, но в целом как будто бы все хорошо."
   ]
  },
  {
   "cell_type": "markdown",
   "metadata": {},
   "source": [
    "Теперь каким-нибудь способом отнормируем `average_bill`"
   ]
  },
  {
   "cell_type": "code",
   "execution_count": 44,
   "metadata": {},
   "outputs": [
    {
     "data": {
      "text/plain": [
       "count    1.712400e+04\n",
       "mean     4.791665e-02\n",
       "std      8.745394e-02\n",
       "min      0.000000e+00\n",
       "25%      2.006238e-17\n",
       "50%      4.263256e-17\n",
       "75%      5.882353e-02\n",
       "max      1.000000e+00\n",
       "Name: average_bill, dtype: float64"
      ]
     },
     "execution_count": 44,
     "metadata": {},
     "output_type": "execute_result"
    }
   ],
   "source": [
    "for name, m in ab_models.items():\n",
    "    d2 = d[name]\n",
    "    d[name][\"average_bill\"] = (d2[\"average_bill\"] - d2[\"average_bill\"].min()) / (d2[\"average_bill\"].max() - d2[\"average_bill\"].min())\n",
    "\n",
    "data2 = pd.concat([d2 for _, d2 in d.items()])\n",
    "data2.average_bill.describe()"
   ]
  },
  {
   "cell_type": "markdown",
   "metadata": {},
   "source": [
    "Правда ли, что все величины отнормированы?"
   ]
  },
  {
   "cell_type": "code",
   "execution_count": 45,
   "metadata": {},
   "outputs": [
    {
     "data": {
      "text/plain": [
       "(0.0, 1.0)"
      ]
     },
     "execution_count": 45,
     "metadata": {},
     "output_type": "execute_result"
    }
   ],
   "source": [
    "data2.min().min(), data2.max().max()"
   ]
  },
  {
   "cell_type": "markdown",
   "metadata": {},
   "source": [
    "## Корреляции"
   ]
  },
  {
   "cell_type": "markdown",
   "metadata": {},
   "source": [
    "Уберем некоторые столбцы для наших заведений, не влияющие на их рейтинг."
   ]
  },
  {
   "cell_type": "code",
   "execution_count": 46,
   "metadata": {},
   "outputs": [
    {
     "name": "stdout",
     "output_type": "stream",
     "text": [
      "Кафе 2\n",
      "Кофейня 7\n",
      "Ресторан 7\n",
      "Булочная, пекарня 7\n",
      "Быстрое питание 7\n",
      "Спортбар 10\n",
      "Бар, паб 10\n",
      "Кальян-бар 8\n",
      "Кондитерская 3\n",
      "Суши-бар 10\n",
      "Пиццерия 9\n",
      "Столовая 10\n",
      "Бар безалкогольных напитков 10\n",
      "Кофе с собой 10\n"
     ]
    }
   ],
   "source": [
    "attrs = {}\n",
    "\n",
    "for i, j in d.items():\n",
    "    corrs = j.corr(numeric_only=True).rating_org.sort_values(ascending=False) # preserve rating_org column\n",
    "    attrs[i] = corrs[np.abs(corrs) > 0.12].sort_values(ascending=False, key=np.abs)[:10] # limit 10\n",
    "    print(i, len(attrs[i]))"
   ]
  },
  {
   "cell_type": "code",
   "execution_count": 47,
   "metadata": {},
   "outputs": [
    {
     "name": "stdout",
     "output_type": "stream",
     "text": [
      "Кафе\n",
      "rating_org 1.0\n",
      "rating_mean 0.22898810103603304\n",
      "Кофейня\n",
      "rating_org 1.0\n",
      "rating_mean 0.30000932258309065\n",
      "automatic_door 0.15161378787354082\n",
      "gift_certificate 0.15147343512187922\n",
      "takeaway 0.1388948510280027\n",
      "toilet_for_disabled 0.13779048879420916\n",
      "special_menu -0.13608324395413507\n",
      "Ресторан\n",
      "rating_org 1.0\n",
      "rating_mean 0.24566926958742905\n",
      "takeaway 0.1700379220233815\n",
      "average_bill 0.15398781885385504\n",
      "gift_certificate 0.1295050244392722\n",
      "karaoke 0.12691054258846984\n",
      "craft_beer 0.1266841584604968\n",
      "Булочная, пекарня\n",
      "rating_org 1.0\n",
      "rating_mean 0.2975635787163478\n",
      "food_product_delivery 0.16646575584099246\n",
      "payment_by_credit_card 0.1367140016297742\n",
      "toilet_for_disabled 0.13620875746117617\n",
      "ratings_count 0.12970004797714865\n",
      "automatic_door 0.12537880725052458\n",
      "Быстрое питание\n",
      "rating_org 1.0\n",
      "rating_mean 0.20949942114056389\n",
      "takeaway 0.20125649697214165\n",
      "breakfast 0.18372481583166791\n",
      "ratings_count 0.16672221101335327\n",
      "special_menu 0.16212872337805448\n",
      "payment_by_credit_card 0.14114909131580977\n",
      "Спортбар\n",
      "rating_org 1.0\n",
      "craft_beer 0.2723313280490234\n",
      "sports_broadcasts 0.2476640217370607\n",
      "special_menu 0.24676109546655975\n",
      "business_lunch 0.23785200161581402\n",
      "payment_by_credit_card 0.22642113952050985\n",
      "gift_certificate 0.2217456665367589\n",
      "online_takeaway 0.1950031493868092\n",
      "ratings_count 0.17810851326794702\n",
      "karaoke 0.17147407912542298\n",
      "Бар, паб\n",
      "rating_org 1.0\n",
      "takeaway 0.2352076747012688\n",
      "rating_mean 0.2039892796645456\n",
      "dancefloor -0.17795066197586956\n",
      "show_program -0.16918000424174875\n",
      "music -0.16842794373152467\n",
      "car_park -0.1648761491116464\n",
      "dress_code -0.16266888881210056\n",
      "closed_for_quarantine 0.16140263324993356\n",
      "craft_beer 0.16070527159189033\n",
      "Кальян-бар\n",
      "rating_org 1.0\n",
      "rating_mean 0.2831116949782331\n",
      "closed_for_quarantine 0.2347417875356222\n",
      "takeaway 0.19581346967657773\n",
      "table_games 0.17880086140988494\n",
      "org_city 0.1424380551696689\n",
      "online_takeaway 0.1402982202630246\n",
      "average_bill -0.13286139758554397\n",
      "Кондитерская\n",
      "rating_org 1.0\n",
      "rating_mean 0.22029355933071978\n",
      "food_product_delivery 0.1593131424392734\n",
      "Суши-бар\n",
      "rating_org 1.0\n",
      "average_bill 0.3037752108852097\n",
      "ratings_count 0.2992567292697549\n",
      "coffee_to_go 0.2737464908637967\n",
      "karaoke 0.22534038386621366\n",
      "special_menu 0.2180412590853006\n",
      "craft_beer 0.21439534332534152\n",
      "food_product_delivery -0.21366704197162562\n",
      "online_takeaway 0.21107665786799415\n",
      "rating_mean 0.19789107641269837\n",
      "Пиццерия\n",
      "rating_org 1.0\n",
      "rating_mean 0.21932556096486697\n",
      "takeaway 0.2074200890913574\n",
      "ratings_count 0.2002586974800158\n",
      "coffee_to_go 0.1959861657662417\n",
      "minimum_order -0.19257162914248252\n",
      "free_delivery -0.1696474548191282\n",
      "parking_disabled 0.14644819698988007\n",
      "wheelchair_access 0.14352333037024922\n",
      "Столовая\n",
      "rating_org 1.0\n",
      "parking_disabled 0.17814170110770144\n",
      "pickup 0.17474985410338925\n",
      "org_city -0.16459652306021377\n",
      "takeaway 0.1623634004582739\n",
      "delivery 0.15297724596593043\n",
      "rating_mean 0.1476681369697436\n",
      "closed_for_quarantine 0.1410813801501587\n",
      "toilet_for_disabled 0.13937584522458338\n",
      "gift_certificate 0.1357717560091417\n",
      "Бар безалкогольных напитков\n",
      "rating_org 1.0\n",
      "business_lunch -0.24645409121834114\n",
      "org_city 0.23118942286318692\n",
      "projector 0.2291664208076486\n",
      "karaoke 0.2291664208076486\n",
      "breakfast -0.21585547248730094\n",
      "sports_broadcasts 0.19296929861800027\n",
      "food_court1 0.17873430527311066\n",
      "takeaway 0.17332701055100316\n",
      "rating_mean 0.15907517768828264\n",
      "Кофе с собой\n",
      "rating_org 1.0\n",
      "pickup 0.3611150346675393\n",
      "wi_fi -0.3245740470510661\n",
      "promotions 0.31882363455113905\n",
      "toilet_for_disabled 0.2314674429095285\n",
      "delivery 0.2195256309960735\n",
      "summer_terrace -0.21425071687459293\n",
      "gift_certificate 0.21111388874321554\n",
      "food_delivery 0.19181775294189174\n",
      "business_lunch -0.1776305567607683\n"
     ]
    }
   ],
   "source": [
    "for i, j in attrs.items():\n",
    "    #break\n",
    "    print(i)\n",
    "    for a in j.index:\n",
    "        print(a, j[a])"
   ]
  },
  {
   "cell_type": "markdown",
   "metadata": {},
   "source": [
    "## Обучаемся предсказывать `rating_org`"
   ]
  },
  {
   "cell_type": "markdown",
   "metadata": {},
   "source": [
    "Точно также обучим модели kNN."
   ]
  },
  {
   "cell_type": "code",
   "execution_count": 48,
   "metadata": {},
   "outputs": [
    {
     "name": "stdout",
     "output_type": "stream",
     "text": [
      "kfold Кафе 4418\n",
      "iteration 39 of 39, best_p 23          \n",
      "kfold Кофейня 1157\n",
      "iteration 39 of 39, best_p 16          \n",
      "kfold Ресторан 4844\n",
      "iteration 39 of 39, best_p 20          \n",
      "kfold Булочная, пекарня 770\n",
      "iteration 39 of 39, best_p 7           \n",
      "kfold Быстрое питание 1759\n",
      "iteration 39 of 39, best_p 8           \n",
      "single-pass Спортбар 89\n",
      "iteration 39 of 39, best_p 8           \n",
      "kfold Бар, паб 1426\n",
      "iteration 39 of 39, best_p 31          \n",
      "kfold Кальян-бар 555\n",
      "iteration 39 of 39, best_p 13          \n",
      "kfold Кондитерская 720\n",
      "iteration 39 of 39, best_p 38          \n",
      "kfold Суши-бар 345\n",
      "iteration 39 of 39, best_p 18          \n",
      "kfold Пиццерия 591\n",
      "iteration 39 of 39, best_p 3           \n",
      "kfold Столовая 367\n",
      "iteration 39 of 39, best_p 10          \n",
      "single-pass Бар безалкогольных напитков 45\n",
      "iteration 39 of 39, best_p 33          \n",
      "single-pass Кофе с собой 38\n",
      "iteration 39 of 39, best_p 2           \n"
     ]
    }
   ],
   "source": [
    "models = {}\n",
    "\n",
    "for name, d2 in d.items():\n",
    "    models[name] = find_model(d2.filter(attrs[name].index), name, \"rating_org\", e=40)"
   ]
  },
  {
   "cell_type": "markdown",
   "metadata": {},
   "source": [
    "## Предсказываем рейтинг"
   ]
  },
  {
   "cell_type": "code",
   "execution_count": 49,
   "metadata": {},
   "outputs": [
    {
     "data": {
      "text/plain": [
       "True"
      ]
     },
     "execution_count": 49,
     "metadata": {},
     "output_type": "execute_result"
    }
   ],
   "source": [
    "final = pd.read_csv('./data/test_x.csv')\n",
    "#final.rating = final.rating.apply(lambda x: max(x, 3))\n",
    "set(rubrics) == set(final.rubrics.unique())"
   ]
  },
  {
   "cell_type": "markdown",
   "metadata": {},
   "source": [
    "Высчитаем `rating_mean`."
   ]
  },
  {
   "cell_type": "code",
   "execution_count": 50,
   "metadata": {},
   "outputs": [],
   "source": [
    "for oid in final.org_id.unique():\n",
    "    d2 = final[final.org_id == oid]\n",
    "    m = d2.rating.mean()\n",
    "    final.loc[d2.index, [\"rating_mean\"]] = m\n",
    "\n",
    "final[\"rating_mean\"] = (final[\"rating_mean\"] - final[\"rating_mean\"].min()) / (final[\"rating_mean\"].max() - final[\"rating_mean\"].min())"
   ]
  },
  {
   "cell_type": "markdown",
   "metadata": {},
   "source": [
    "Оцифровываем `org_city`"
   ]
  },
  {
   "cell_type": "code",
   "execution_count": 51,
   "metadata": {},
   "outputs": [],
   "source": [
    "final[\"org_city\"] = final[\"org_city\"].map({\"msk\": 0, \"spb\": 1})"
   ]
  },
  {
   "cell_type": "markdown",
   "metadata": {},
   "source": [
    "Высчитываем столбец `foreign_ratio`"
   ]
  },
  {
   "cell_type": "code",
   "execution_count": 52,
   "metadata": {},
   "outputs": [],
   "source": [
    "for oid in final.org_id.unique():\n",
    "    d2 = final[final.org_id == oid]\n",
    "    u = d2.user_city.value_counts()\n",
    "    foreign_city = \"msk\" if d2.org_city.values[0] == 1 else \"spb\"\n",
    "    ratio = 0\n",
    "    if foreign_city in u.index:\n",
    "        ratio = u[foreign_city] / sum(u.values)\n",
    "    final.loc[d2.index, [\"foreign_ratio\"]] = ratio\n"
   ]
  },
  {
   "cell_type": "markdown",
   "metadata": {},
   "source": [
    "Считаем количество отзывов."
   ]
  },
  {
   "cell_type": "code",
   "execution_count": 53,
   "metadata": {},
   "outputs": [],
   "source": [
    "for oid in final.org_id.unique():\n",
    "    d2 = final[final.org_id == oid]\n",
    "    final.loc[d2.index, [\"ratings_count\"]] = len(d2)\n",
    "\n",
    "ratings_count_divider2 = final[\"ratings_count\"].max() - final[\"ratings_count\"].min()\n",
    "final[\"ratings_count\"] = (final[\"ratings_count\"] - final[\"ratings_count\"].min()) / ratings_count_divider2"
   ]
  },
  {
   "cell_type": "markdown",
   "metadata": {},
   "source": [
    "Есть ли пропуски по `average_bill`?"
   ]
  },
  {
   "cell_type": "code",
   "execution_count": 54,
   "metadata": {},
   "outputs": [
    {
     "name": "stdout",
     "output_type": "stream",
     "text": [
      "<class 'pandas.core.series.Series'>\n",
      "RangeIndex: 24665 entries, 0 to 24664\n",
      "Series name: average_bill\n",
      "Non-Null Count  Dtype  \n",
      "--------------  -----  \n",
      "15187 non-null  float64\n",
      "dtypes: float64(1)\n",
      "memory usage: 192.8 KB\n"
     ]
    }
   ],
   "source": [
    "final.average_bill.info()"
   ]
  },
  {
   "cell_type": "markdown",
   "metadata": {},
   "source": [
    "Есть. Плохо. Надо их заполнить."
   ]
  },
  {
   "cell_type": "code",
   "execution_count": 55,
   "metadata": {},
   "outputs": [],
   "source": [
    "for name, m in ab_models.items():\n",
    "    d2 = final[final.rubrics == name][\"average_bill\"]\n",
    "    index = d2.isna()\n",
    "    d3 = final[final.rubrics == name]\n",
    "    if len(d3[index]) > 0:\n",
    "        ab_prediction = m.predict(d3.drop(columns=ban+[\"average_bill\"])[index].to_numpy())\n",
    "        index2 = d2.isna()[index.values == True]\n",
    "        for i in range(0, len(index2)):\n",
    "            final.loc[index2.index[i], \"average_bill\"] = ab_prediction[i]\n",
    "        #print(\"predicted\", len(ab_prediction))"
   ]
  },
  {
   "cell_type": "code",
   "execution_count": 56,
   "metadata": {},
   "outputs": [],
   "source": [
    "for name, _ in ab_models.items():\n",
    "    d2 = final[final.rubrics == name]\n",
    "    final.loc[final.rubrics == name, \"average_bill\"] = (d2[\"average_bill\"] - d2[\"average_bill\"].min()) / (d2[\"average_bill\"].max() - d2[\"average_bill\"].min())"
   ]
  },
  {
   "cell_type": "code",
   "execution_count": 57,
   "metadata": {},
   "outputs": [
    {
     "data": {
      "text/plain": [
       "count    2.466500e+04\n",
       "mean     2.257943e-02\n",
       "std      7.954217e-02\n",
       "min      0.000000e+00\n",
       "25%      3.667317e-18\n",
       "50%      5.685409e-04\n",
       "75%      7.389163e-03\n",
       "max      1.000000e+00\n",
       "Name: average_bill, dtype: float64"
      ]
     },
     "execution_count": 57,
     "metadata": {},
     "output_type": "execute_result"
    }
   ],
   "source": [
    "final.average_bill.describe()"
   ]
  },
  {
   "cell_type": "code",
   "execution_count": 58,
   "metadata": {},
   "outputs": [
    {
     "data": {
      "text/html": [
       "<div>\n",
       "<style scoped>\n",
       "    .dataframe tbody tr th:only-of-type {\n",
       "        vertical-align: middle;\n",
       "    }\n",
       "\n",
       "    .dataframe tbody tr th {\n",
       "        vertical-align: top;\n",
       "    }\n",
       "\n",
       "    .dataframe thead th {\n",
       "        text-align: right;\n",
       "    }\n",
       "</style>\n",
       "<table border=\"1\" class=\"dataframe\">\n",
       "  <thead>\n",
       "    <tr style=\"text-align: right;\">\n",
       "      <th></th>\n",
       "      <th>org_id</th>\n",
       "      <th>rating</th>\n",
       "      <th>rating_mean</th>\n",
       "    </tr>\n",
       "  </thead>\n",
       "  <tbody>\n",
       "    <tr>\n",
       "      <th>0</th>\n",
       "      <td>17145242605301041786</td>\n",
       "      <td>5.0</td>\n",
       "      <td>0.8</td>\n",
       "    </tr>\n",
       "    <tr>\n",
       "      <th>9930</th>\n",
       "      <td>17145242605301041786</td>\n",
       "      <td>5.0</td>\n",
       "      <td>0.8</td>\n",
       "    </tr>\n",
       "    <tr>\n",
       "      <th>16744</th>\n",
       "      <td>17145242605301041786</td>\n",
       "      <td>5.0</td>\n",
       "      <td>0.8</td>\n",
       "    </tr>\n",
       "    <tr>\n",
       "      <th>18621</th>\n",
       "      <td>17145242605301041786</td>\n",
       "      <td>1.0</td>\n",
       "      <td>0.8</td>\n",
       "    </tr>\n",
       "    <tr>\n",
       "      <th>24581</th>\n",
       "      <td>17145242605301041786</td>\n",
       "      <td>5.0</td>\n",
       "      <td>0.8</td>\n",
       "    </tr>\n",
       "  </tbody>\n",
       "</table>\n",
       "</div>"
      ],
      "text/plain": [
       "                     org_id  rating  rating_mean\n",
       "0      17145242605301041786     5.0          0.8\n",
       "9930   17145242605301041786     5.0          0.8\n",
       "16744  17145242605301041786     5.0          0.8\n",
       "18621  17145242605301041786     1.0          0.8\n",
       "24581  17145242605301041786     5.0          0.8"
      ]
     },
     "execution_count": 58,
     "metadata": {},
     "output_type": "execute_result"
    }
   ],
   "source": [
    "final.filter([\"org_id\", \"rating\", \"rating_mean\"])[final.org_id == final.org_id.unique()[0]]"
   ]
  },
  {
   "cell_type": "code",
   "execution_count": 59,
   "metadata": {},
   "outputs": [],
   "source": [
    "results = pd.DataFrame({\n",
    "    'rating_org': [0] * len(final),\n",
    "})\n",
    "\n",
    "for name, m in models.items():\n",
    "    k = final[final.rubrics == name].drop(columns=ban).filter(attrs[name].index)\n",
    "    X = k.to_numpy()\n",
    "    prediction = m.predict(X)\n",
    "    for ind in range(0, len(k)):\n",
    "        results.iloc[k.index[ind]] = prediction[ind] * 5.0"
   ]
  },
  {
   "cell_type": "code",
   "execution_count": 60,
   "metadata": {},
   "outputs": [
    {
     "data": {
      "text/html": [
       "<div>\n",
       "<style scoped>\n",
       "    .dataframe tbody tr th:only-of-type {\n",
       "        vertical-align: middle;\n",
       "    }\n",
       "\n",
       "    .dataframe tbody tr th {\n",
       "        vertical-align: top;\n",
       "    }\n",
       "\n",
       "    .dataframe thead th {\n",
       "        text-align: right;\n",
       "    }\n",
       "</style>\n",
       "<table border=\"1\" class=\"dataframe\">\n",
       "  <thead>\n",
       "    <tr style=\"text-align: right;\">\n",
       "      <th></th>\n",
       "      <th>rating_org</th>\n",
       "    </tr>\n",
       "  </thead>\n",
       "  <tbody>\n",
       "    <tr>\n",
       "      <th>0</th>\n",
       "      <td>4.081671</td>\n",
       "    </tr>\n",
       "    <tr>\n",
       "      <th>1</th>\n",
       "      <td>4.177072</td>\n",
       "    </tr>\n",
       "    <tr>\n",
       "      <th>2</th>\n",
       "      <td>4.176647</td>\n",
       "    </tr>\n",
       "    <tr>\n",
       "      <th>3</th>\n",
       "      <td>4.113177</td>\n",
       "    </tr>\n",
       "    <tr>\n",
       "      <th>4</th>\n",
       "      <td>4.609458</td>\n",
       "    </tr>\n",
       "    <tr>\n",
       "      <th>...</th>\n",
       "      <td>...</td>\n",
       "    </tr>\n",
       "    <tr>\n",
       "      <th>24660</th>\n",
       "      <td>4.038669</td>\n",
       "    </tr>\n",
       "    <tr>\n",
       "      <th>24661</th>\n",
       "      <td>4.176647</td>\n",
       "    </tr>\n",
       "    <tr>\n",
       "      <th>24662</th>\n",
       "      <td>4.097274</td>\n",
       "    </tr>\n",
       "    <tr>\n",
       "      <th>24663</th>\n",
       "      <td>4.159310</td>\n",
       "    </tr>\n",
       "    <tr>\n",
       "      <th>24664</th>\n",
       "      <td>4.401388</td>\n",
       "    </tr>\n",
       "  </tbody>\n",
       "</table>\n",
       "<p>24665 rows × 1 columns</p>\n",
       "</div>"
      ],
      "text/plain": [
       "       rating_org\n",
       "0        4.081671\n",
       "1        4.177072\n",
       "2        4.176647\n",
       "3        4.113177\n",
       "4        4.609458\n",
       "...           ...\n",
       "24660    4.038669\n",
       "24661    4.176647\n",
       "24662    4.097274\n",
       "24663    4.159310\n",
       "24664    4.401388\n",
       "\n",
       "[24665 rows x 1 columns]"
      ]
     },
     "execution_count": 60,
     "metadata": {},
     "output_type": "execute_result"
    }
   ],
   "source": [
    "results"
   ]
  },
  {
   "cell_type": "code",
   "execution_count": 61,
   "metadata": {},
   "outputs": [],
   "source": [
    "results.to_csv(\"./solution.csv\", index_label='id')"
   ]
  },
  {
   "cell_type": "code",
   "execution_count": 62,
   "metadata": {},
   "outputs": [],
   "source": [
    "#results.iloc[final.drop_duplicates(subset=[\"org_id\"]).index].to_csv(\"./results_unique.csv\", index_label=\"id\")"
   ]
  },
  {
   "cell_type": "code",
   "execution_count": 63,
   "metadata": {},
   "outputs": [],
   "source": [
    "#data.iloc[data.drop_duplicates(subset=[\"org_id\"]).index].to_csv(\"./train_unique.csv\", index_label=\"id\")"
   ]
  }
 ],
 "metadata": {
  "kernelspec": {
   "display_name": "Python 3",
   "language": "python",
   "name": "python3"
  },
  "language_info": {
   "codemirror_mode": {
    "name": "ipython",
    "version": 3
   },
   "file_extension": ".py",
   "mimetype": "text/x-python",
   "name": "python",
   "nbconvert_exporter": "python",
   "pygments_lexer": "ipython3",
   "version": "3.10.2"
  },
  "orig_nbformat": 4,
  "vscode": {
   "interpreter": {
    "hash": "4ee925d85def2a5ad9b1b2faaac3bfc68f425f67c2cce27bba70eba531dcc34e"
   }
  }
 },
 "nbformat": 4,
 "nbformat_minor": 2
}
