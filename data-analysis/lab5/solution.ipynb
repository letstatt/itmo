{
 "cells": [
  {
   "cell_type": "code",
   "execution_count": 316,
   "metadata": {},
   "outputs": [],
   "source": [
    "import numpy as np\n",
    "import matplotlib.pyplot as plt"
   ]
  },
  {
   "cell_type": "markdown",
   "metadata": {},
   "source": [
    "# Read files"
   ]
  },
  {
   "cell_type": "code",
   "execution_count": 365,
   "metadata": {},
   "outputs": [],
   "source": [
    "import os\n",
    "contents = [] # [(subject, body, is_spam)]\n",
    "\n",
    "for path, subdirs, files in os.walk(\"./data\"):\n",
    "    for name in files:\n",
    "        with open(os.path.join(path, name), 'r') as f:\n",
    "            lines = f.readlines()\n",
    "            subject = lines[0][len(\"Subject: \"):].strip()\n",
    "            body = lines[2].strip()\n",
    "            subject_ints = subject\n",
    "            body_ints = body\n",
    "            contents.append((subject_ints, body_ints, name.find(\"spmsg\") != -1))\n",
    "    break # :)"
   ]
  },
  {
   "cell_type": "markdown",
   "metadata": {},
   "source": [
    "# Prepare data"
   ]
  },
  {
   "cell_type": "markdown",
   "metadata": {},
   "source": [
    "# Datasets"
   ]
  },
  {
   "cell_type": "code",
   "execution_count": 371,
   "metadata": {},
   "outputs": [],
   "source": [
    "subj_and_body = contents\n",
    "no_subj_just_body = [(\"\", body, is_spam) for _, body, is_spam in contents]"
   ]
  },
  {
   "cell_type": "markdown",
   "metadata": {},
   "source": [
    "# Vectorization"
   ]
  },
  {
   "cell_type": "code",
   "execution_count": 372,
   "metadata": {},
   "outputs": [],
   "source": [
    "from sklearn.feature_extraction.text import CountVectorizer\n",
    "\n",
    "def bag_of_words(data):\n",
    "    cv = CountVectorizer(token_pattern=r\"\\w+\")\n",
    "    X = []\n",
    "    Y = []\n",
    "    for subj, body, is_spam in data:\n",
    "        X.append(subj + body)\n",
    "        Y.append(is_spam)\n",
    "    return cv.fit_transform(X), Y"
   ]
  },
  {
   "cell_type": "code",
   "execution_count": 373,
   "metadata": {},
   "outputs": [],
   "source": [
    "from sklearn.feature_extraction.text import TfidfVectorizer\n",
    "\n",
    "def TFIDF(data):\n",
    "    tv = TfidfVectorizer(token_pattern=r\"\\w+\")\n",
    "    X = []\n",
    "    Y = []\n",
    "    for subj, body, is_spam in data:\n",
    "        X.append(subj + body)\n",
    "        Y.append(is_spam)\n",
    "    return tv.fit_transform(X), Y"
   ]
  },
  {
   "cell_type": "markdown",
   "metadata": {},
   "source": [
    "# Processed data"
   ]
  },
  {
   "cell_type": "code",
   "execution_count": 374,
   "metadata": {},
   "outputs": [],
   "source": [
    "subj_and_body_bag = bag_of_words(subj_and_body)\n",
    "subj_and_body_tfidf = TFIDF(subj_and_body)\n",
    "no_subj_just_body_bag = bag_of_words(no_subj_just_body)\n",
    "no_subj_just_body_tfidf = TFIDF(no_subj_just_body)"
   ]
  },
  {
   "cell_type": "markdown",
   "metadata": {},
   "source": [
    "# Model and prediction"
   ]
  },
  {
   "cell_type": "code",
   "execution_count": 375,
   "metadata": {},
   "outputs": [],
   "source": [
    "from sklearn.model_selection import train_test_split\n",
    "from sklearn.naive_bayes import MultinomialNB\n",
    "\n",
    "def split(X, Y):\n",
    "    train_X, test_X, train_Y, test_Y = train_test_split(X, Y, test_size=0.2, random_state=1337)\n",
    "    return train_X, train_Y, test_X, test_Y\n",
    "\n",
    "def model(train_X, train_Y, **kwargs):\n",
    "    m = MultinomialNB(**kwargs)\n",
    "    m.fit(train_X, train_Y)\n",
    "    return m\n",
    "\n",
    "def brute_params(f, keys, ranges, i, **kwargs):\n",
    "    if i >= len(keys):\n",
    "        return f(**kwargs)\n",
    "    best_score = 0\n",
    "    best_m = None\n",
    "    \n",
    "    for j in ranges[i]:\n",
    "        args = dict()\n",
    "        for x, y in kwargs.items():\n",
    "            args[x] = y\n",
    "        args[keys[i]] = j\n",
    "        m, score = brute_params(f, keys, ranges, i + 1, **args)\n",
    "        if score > best_score:\n",
    "            best_score = score\n",
    "            best_m = m\n",
    "    return best_m, best_score\n",
    "\n",
    "def best_model(trainX, trainY, testX, testY, **params):\n",
    "    def f(**kwargs):\n",
    "        m = model(trainX, trainY, **kwargs)\n",
    "        pred = m.predict(testX)\n",
    "        accuracy = sum(testY[i] == cl for i, cl in enumerate(pred)) / len(testY)\n",
    "        return m, accuracy\n",
    "    return brute_params(f, list(params.keys()), list(params.values()), 0)\n"
   ]
  },
  {
   "cell_type": "markdown",
   "metadata": {},
   "source": [
    "# Get best AUC"
   ]
  },
  {
   "cell_type": "code",
   "execution_count": 376,
   "metadata": {},
   "outputs": [],
   "source": [
    "from sklearn.metrics import roc_curve, auc\n",
    "\n",
    "def roc_auc_score(actual, proba):\n",
    "    fpr, tpr, _ = roc_curve(actual, proba)\n",
    "    return fpr, tpr, auc(fpr, tpr)\n",
    "\n",
    "def draw_roc(fpr, tpr, auc_score):\n",
    "    plt.plot(fpr, tpr, lw=2, label=\"ROC curve (area = %0.2f)\" % auc_score)\n",
    "    plt.plot([0, 1], [0, 1], color=\"navy\", lw=2, linestyle=\"--\")\n",
    "    plt.xlim([0.0, 1.0])\n",
    "    plt.ylim([0.0, 1.05])\n",
    "    plt.xlabel(\"False Positive Rate\")\n",
    "    plt.ylabel(\"True Positive Rate\")\n",
    "    plt.title(\"Receiver operating characteristic\")\n",
    "    plt.legend(loc=\"lower right\")\n",
    "    plt.show()"
   ]
  },
  {
   "cell_type": "code",
   "execution_count": 377,
   "metadata": {},
   "outputs": [],
   "source": [
    "data = {\n",
    "    \"subject + body, bag of words\": subj_and_body_bag,\n",
    "    \"subject + body, TFIDF\": subj_and_body_tfidf,\n",
    "    \"no subject, just body, bag of words\": no_subj_just_body_bag,\n",
    "    \"no subject, just body, TFIDF\": no_subj_just_body_tfidf,\n",
    "}"
   ]
  },
  {
   "cell_type": "code",
   "execution_count": 378,
   "metadata": {},
   "outputs": [],
   "source": [
    "best = None\n",
    "best_auc = 0\n",
    "\n",
    "for name, xy in data.items():\n",
    "    trainX, trainY, testX, testY = split(*xy)\n",
    "    m, acc = best_model(trainX, trainY, testX, testY, alpha=np.linspace(0.01, 5, 20))\n",
    "    fpr, tpr, auc_score = roc_auc_score(testY, m.predict_proba(testX)[:, 1])\n",
    "    if auc_score > best_auc:\n",
    "        best_auc = auc_score\n",
    "        best = (name, m, acc, fpr, tpr)"
   ]
  },
  {
   "cell_type": "code",
   "execution_count": 379,
   "metadata": {},
   "outputs": [
    {
     "name": "stdout",
     "output_type": "stream",
     "text": [
      "best try: name=\"subject + body, TFIDF\", auc=0.999654934437543, accuracy=0.9862385321100917\n"
     ]
    },
    {
     "data": {
      "image/png": "[encoded data removed]",
      "text/plain": [
       "<Figure size 432x288 with 1 Axes>"
      ]
     },
     "metadata": {
      "needs_background": "light"
     },
     "output_type": "display_data"
    }
   ],
   "source": [
    "print(\"best try: name=\\\"{0}\\\", auc={1}, accuracy={2}\".format(best[0], best_auc, best[2]))\n",
    "draw_roc(best[3], best[4], best_auc)"
   ]
  },
  {
   "cell_type": "code",
   "execution_count": 380,
   "metadata": {},
   "outputs": [
    {
     "data": {
      "text/plain": [
       "0.01"
      ]
     },
     "execution_count": 380,
     "metadata": {},
     "output_type": "execute_result"
    }
   ],
   "source": [
    "best[1].alpha"
   ]
  },
  {
   "attachments": {},
   "cell_type": "markdown",
   "metadata": {},
   "source": [
    "# Accuracy and aprior proba"
   ]
  },
  {
   "cell_type": "code",
   "execution_count": 381,
   "metadata": {},
   "outputs": [],
   "source": [
    "class_prior = [[1-p, p] for p in np.logspace(-15, -1, 15)]"
   ]
  },
  {
   "cell_type": "code",
   "execution_count": 383,
   "metadata": {},
   "outputs": [],
   "source": [
    "accuracies = []\n",
    "trainX, trainY, testX, testY = split(*data[\"subject + body, TFIDF\"])\n",
    "\n",
    "for i in class_prior:\n",
    "    m = model(trainX, trainY, alpha=0.01, class_prior=i)\n",
    "    pred = m.predict(testX)\n",
    "    accuracy = sum(testY[i] == cl for i, cl in enumerate(pred)) / len(testY)\n",
    "    accuracies.append(accuracy)"
   ]
  },
  {
   "cell_type": "code",
   "execution_count": 384,
   "metadata": {},
   "outputs": [
    {
     "data": {
      "image/png": "[encoded data removed]",
      "text/plain": [
       "<Figure size 720x360 with 1 Axes>"
      ]
     },
     "metadata": {
      "needs_background": "light"
     },
     "output_type": "display_data"
    }
   ],
   "source": [
    "plt.figure(figsize=(10, 5))\n",
    "plt.plot(np.logspace(-15, -1, 15), accuracies)\n",
    "plt.xlabel(\"Spam aprior probabilities\")\n",
    "plt.ylabel(\"Accuracy\")\n",
    "plt.xscale('log')\n",
    "plt.show()"
   ]
  },
  {
   "attachments": {},
   "cell_type": "markdown",
   "metadata": {},
   "source": [
    "# Make no false positives"
   ]
  },
  {
   "cell_type": "code",
   "execution_count": 426,
   "metadata": {},
   "outputs": [],
   "source": [
    "alpha = np.linspace(1e-8, 3, 10)\n",
    "class_prior = [[1-p, p] for p in np.linspace(1e-20, 1e-5, 150)]"
   ]
  },
  {
   "cell_type": "code",
   "execution_count": 427,
   "metadata": {},
   "outputs": [],
   "source": [
    "best = None\n",
    "best_acc = 0\n",
    "\n",
    "for name, xy in data.items():\n",
    "    trainX, trainY, testX, testY = split(*xy)\n",
    "    m, acc = best_model(trainX, trainY, testX, testY, alpha=alpha, class_prior=class_prior)\n",
    "    pred = m.predict(testX)\n",
    "    if any(pred[i] and not actual for i, actual in enumerate(testY)):\n",
    "        continue # has false positives\n",
    "    if acc > best_acc:\n",
    "        best_acc = acc\n",
    "        fpr, tpr, auc_score = roc_auc_score(testY, m.predict_proba(testX)[:, 1])\n",
    "        best = (name, m, auc_score, fpr, tpr)"
   ]
  },
  {
   "cell_type": "code",
   "execution_count": 428,
   "metadata": {},
   "outputs": [
    {
     "name": "stdout",
     "output_type": "stream",
     "text": [
      "best try: name=\"subject + body, TFIDF\", auc=0.995600414078675, accuracy=0.7798165137614679\n"
     ]
    },
    {
     "data": {
      "image/png": "[encoded data removed]",
      "text/plain": [
       "<Figure size 432x288 with 1 Axes>"
      ]
     },
     "metadata": {
      "needs_background": "light"
     },
     "output_type": "display_data"
    }
   ],
   "source": [
    "print(\"best try: name=\\\"{0}\\\", auc={1}, accuracy={2}\".format(best[0], best[2], best_acc))\n",
    "draw_roc(best[3], best[4], best[2])"
   ]
  },
  {
   "cell_type": "code",
   "execution_count": 429,
   "metadata": {},
   "outputs": [
    {
     "data": {
      "text/plain": [
       "(1e-08, [0.9999938926174496, 6.107382550335575e-06])"
      ]
     },
     "execution_count": 429,
     "metadata": {},
     "output_type": "execute_result"
    }
   ],
   "source": [
    "best[1].alpha, best[1].class_prior"
   ]
  }
 ],
 "metadata": {
  "kernelspec": {
   "display_name": "Python 3.10.2 64-bit",
   "language": "python",
   "name": "python3"
  },
  "language_info": {
   "codemirror_mode": {
    "name": "ipython",
    "version": 3
   },
   "file_extension": ".py",
   "mimetype": "text/x-python",
   "name": "python",
   "nbconvert_exporter": "python",
   "pygments_lexer": "ipython3",
   "version": "3.10.2 (tags/v3.10.2:a58ebcc, Jan 17 2022, 14:12:15) [MSC v.1929 64 bit (AMD64)]"
  },
  "orig_nbformat": 4,
  "vscode": {
   "interpreter": {
    "hash": "4ee925d85def2a5ad9b1b2faaac3bfc68f425f67c2cce27bba70eba531dcc34e"
   }
  }
 },
 "nbformat": 4,
 "nbformat_minor": 2
}
